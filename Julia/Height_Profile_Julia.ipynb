{
 "cells": [
  {
   "cell_type": "markdown",
   "metadata": {},
   "source": [
    "# Creating a Heightprofile\n",
    "\n",
    "### About this Jupyter Notebook\n",
    "This Jupyter Notebook creates a heightprofile of any given location with at the measured heights (0.5m, 1m, 2m and 3m). \n",
    "\n",
    "### Measurment device dataset\n",
    "This dataset contains temperature and relative air humidity at the heights: 0.5m, 1m, 2m and 3m.\n",
    "\n",
    "### Aim\n",
    "The goal of this Jupyter Notebook is to create a heightprofile by connecting the mesured values for relative air humidity and temperature at the given heights with a cubic-polynomial. The derivation of each parameter and reason on why the use of a cubic-polynomial is given in the main worksheet. The aim is to create a profile of each measurment-location. To enhance the figure, the final plot should include a profile of the maximum, minimum and mean value for every height over the whole measurment. These points will as well be connected with a cubic-polinomial.\n",
    "\n",
    "----\n",
    "### Import necessary packeges\n",
    "In the very first step the packeges CSV and DataFrames to load-in the datasets and storeing the values inside a dataframe are imported. The packege Statistics is imported as well. This packege is used to calculate maximum, minimum and mean values from the dataset given. Finally the plot packege is needed to create the plots."
   ]
  },
  {
   "cell_type": "code",
   "execution_count": 2,
   "metadata": {},
   "outputs": [],
   "source": [
    "using CSV\n",
    "using DataFrames"
   ]
  },
  {
   "cell_type": "code",
   "execution_count": 3,
   "metadata": {},
   "outputs": [],
   "source": [
    "using Statistics\n",
    "using Plots"
   ]
  },
  {
   "cell_type": "markdown",
   "metadata": {},
   "source": [
    "## Loading the Dataset\n",
    "\n",
    "In this step the dataset is loaded into julia. Simultaneously the values are stored inside a dataframe such that calculations inside the table can take place.\n",
    "\n",
    "_Note:_ Bias-correction over the dataset was taken place beforehand."
   ]
  },
  {
   "cell_type": "code",
   "execution_count": 4,
   "metadata": {},
   "outputs": [
    {
     "data": {
      "text/html": [
       "<div><div style = \"float: left;\"><span>3894×23 DataFrame</span></div><div style = \"float: right;\"><span style = \"font-style: italic;\">3869 rows omitted</span></div><div style = \"clear: both;\"></div></div><div class = \"data-frame\" style = \"overflow-x: scroll;\"><table class = \"data-frame\" style = \"margin-bottom: 6px;\"><thead><tr class = \"header\"><th class = \"rowNumber\" style = \"font-weight: bold; text-align: right;\">Row</th><th style = \"text-align: left;\">Messung</th><th style = \"text-align: left;\">Jahr</th><th style = \"text-align: left;\">Monat</th><th style = \"text-align: left;\">Tag</th><th style = \"text-align: left;\">Longitude</th><th style = \"text-align: left;\">Latitude</th><th style = \"text-align: left;\">Height</th><th style = \"text-align: left;\">Stunde</th><th style = \"text-align: left;\">Minute</th><th style = \"text-align: left;\">Sekunde</th><th style = \"text-align: left;\">Sensor1_T</th><th style = \"text-align: left;\">Sensor1_LF</th><th style = \"text-align: left;\">Sensor2_T</th><th style = \"text-align: left;\">Sensor2_LF</th><th style = \"text-align: left;\">Sensor3_T</th><th style = \"text-align: left;\">Sensor3_LF</th><th style = \"text-align: left;\">Sensor4_T</th><th style = \"text-align: left;\">Sensor4_LF</th><th style = \"text-align: left;\">Time</th><th style = \"text-align: left;\">Distanz_Nachbarpunkt</th><th style = \"text-align: left;\">Distanz_Runsum</th><th style = \"text-align: left;\">Height_GIS1</th><th style = \"text-align: left;\">LCZ</th></tr><tr class = \"subheader headerLastRow\"><th class = \"rowNumber\" style = \"font-weight: bold; text-align: right;\"></th><th title = \"Int64\" style = \"text-align: left;\">Int64</th><th title = \"Int64\" style = \"text-align: left;\">Int64</th><th title = \"Int64\" style = \"text-align: left;\">Int64</th><th title = \"Int64\" style = \"text-align: left;\">Int64</th><th title = \"Float64\" style = \"text-align: left;\">Float64</th><th title = \"Float64\" style = \"text-align: left;\">Float64</th><th title = \"Float64\" style = \"text-align: left;\">Float64</th><th title = \"Int64\" style = \"text-align: left;\">Int64</th><th title = \"Int64\" style = \"text-align: left;\">Int64</th><th title = \"Int64\" style = \"text-align: left;\">Int64</th><th title = \"Float64\" style = \"text-align: left;\">Float64</th><th title = \"Float64\" style = \"text-align: left;\">Float64</th><th title = \"Float64\" style = \"text-align: left;\">Float64</th><th title = \"Float64\" style = \"text-align: left;\">Float64</th><th title = \"Float64\" style = \"text-align: left;\">Float64</th><th title = \"Float64\" style = \"text-align: left;\">Float64</th><th title = \"Float64\" style = \"text-align: left;\">Float64</th><th title = \"Float64\" style = \"text-align: left;\">Float64</th><th title = \"Int64\" style = \"text-align: left;\">Int64</th><th title = \"Float64\" style = \"text-align: left;\">Float64</th><th title = \"Float64\" style = \"text-align: left;\">Float64</th><th title = \"Float64\" style = \"text-align: left;\">Float64</th><th title = \"Int64\" style = \"text-align: left;\">Int64</th></tr></thead><tbody><tr><td class = \"rowNumber\" style = \"font-weight: bold; text-align: right;\">1</td><td style = \"text-align: right;\">1</td><td style = \"text-align: right;\">2024</td><td style = \"text-align: right;\">12</td><td style = \"text-align: right;\">12</td><td style = \"text-align: right;\">7.436</td><td style = \"text-align: right;\">46.9544</td><td style = \"text-align: right;\">573.8</td><td style = \"text-align: right;\">10</td><td style = \"text-align: right;\">37</td><td style = \"text-align: right;\">14</td><td style = \"text-align: right;\">1.76</td><td style = \"text-align: right;\">66.78</td><td style = \"text-align: right;\">1.91</td><td style = \"text-align: right;\">68.44</td><td style = \"text-align: right;\">1.3</td><td style = \"text-align: right;\">69.57</td><td style = \"text-align: right;\">1.24</td><td style = \"text-align: right;\">70.79</td><td style = \"text-align: right;\">34634</td><td style = \"text-align: right;\">0.0</td><td style = \"text-align: right;\">0.0</td><td style = \"text-align: right;\">557.9</td><td style = \"text-align: right;\">1</td></tr><tr><td class = \"rowNumber\" style = \"font-weight: bold; text-align: right;\">2</td><td style = \"text-align: right;\">2</td><td style = \"text-align: right;\">2024</td><td style = \"text-align: right;\">12</td><td style = \"text-align: right;\">12</td><td style = \"text-align: right;\">7.43598</td><td style = \"text-align: right;\">46.9544</td><td style = \"text-align: right;\">573.7</td><td style = \"text-align: right;\">10</td><td style = \"text-align: right;\">37</td><td style = \"text-align: right;\">16</td><td style = \"text-align: right;\">1.8</td><td style = \"text-align: right;\">66.87</td><td style = \"text-align: right;\">1.86</td><td style = \"text-align: right;\">68.44</td><td style = \"text-align: right;\">1.3</td><td style = \"text-align: right;\">69.56</td><td style = \"text-align: right;\">1.27</td><td style = \"text-align: right;\">70.81</td><td style = \"text-align: right;\">34636</td><td style = \"text-align: right;\">1.88488</td><td style = \"text-align: right;\">1.88488</td><td style = \"text-align: right;\">557.9</td><td style = \"text-align: right;\">1</td></tr><tr><td class = \"rowNumber\" style = \"font-weight: bold; text-align: right;\">3</td><td style = \"text-align: right;\">3</td><td style = \"text-align: right;\">2024</td><td style = \"text-align: right;\">12</td><td style = \"text-align: right;\">12</td><td style = \"text-align: right;\">7.43597</td><td style = \"text-align: right;\">46.9544</td><td style = \"text-align: right;\">573.6</td><td style = \"text-align: right;\">10</td><td style = \"text-align: right;\">37</td><td style = \"text-align: right;\">17</td><td style = \"text-align: right;\">1.78</td><td style = \"text-align: right;\">66.93</td><td style = \"text-align: right;\">1.94</td><td style = \"text-align: right;\">68.46</td><td style = \"text-align: right;\">1.33</td><td style = \"text-align: right;\">69.64</td><td style = \"text-align: right;\">1.21</td><td style = \"text-align: right;\">70.78</td><td style = \"text-align: right;\">34637</td><td style = \"text-align: right;\">1.34718</td><td style = \"text-align: right;\">3.23206</td><td style = \"text-align: right;\">557.9</td><td style = \"text-align: right;\">1</td></tr><tr><td class = \"rowNumber\" style = \"font-weight: bold; text-align: right;\">4</td><td style = \"text-align: right;\">4</td><td style = \"text-align: right;\">2024</td><td style = \"text-align: right;\">12</td><td style = \"text-align: right;\">12</td><td style = \"text-align: right;\">7.43596</td><td style = \"text-align: right;\">46.9544</td><td style = \"text-align: right;\">573.7</td><td style = \"text-align: right;\">10</td><td style = \"text-align: right;\">37</td><td style = \"text-align: right;\">18</td><td style = \"text-align: right;\">1.76</td><td style = \"text-align: right;\">66.94</td><td style = \"text-align: right;\">1.88</td><td style = \"text-align: right;\">68.4</td><td style = \"text-align: right;\">1.29</td><td style = \"text-align: right;\">69.51</td><td style = \"text-align: right;\">1.21</td><td style = \"text-align: right;\">70.73</td><td style = \"text-align: right;\">34638</td><td style = \"text-align: right;\">0.761114</td><td style = \"text-align: right;\">3.99318</td><td style = \"text-align: right;\">557.9</td><td style = \"text-align: right;\">1</td></tr><tr><td class = \"rowNumber\" style = \"font-weight: bold; text-align: right;\">5</td><td style = \"text-align: right;\">5</td><td style = \"text-align: right;\">2024</td><td style = \"text-align: right;\">12</td><td style = \"text-align: right;\">12</td><td style = \"text-align: right;\">7.43594</td><td style = \"text-align: right;\">46.9544</td><td style = \"text-align: right;\">573.6</td><td style = \"text-align: right;\">10</td><td style = \"text-align: right;\">37</td><td style = \"text-align: right;\">19</td><td style = \"text-align: right;\">1.78</td><td style = \"text-align: right;\">66.88</td><td style = \"text-align: right;\">1.91</td><td style = \"text-align: right;\">68.44</td><td style = \"text-align: right;\">1.3</td><td style = \"text-align: right;\">69.59</td><td style = \"text-align: right;\">1.22</td><td style = \"text-align: right;\">70.78</td><td style = \"text-align: right;\">34639</td><td style = \"text-align: right;\">1.88488</td><td style = \"text-align: right;\">5.87806</td><td style = \"text-align: right;\">557.93</td><td style = \"text-align: right;\">1</td></tr><tr><td class = \"rowNumber\" style = \"font-weight: bold; text-align: right;\">6</td><td style = \"text-align: right;\">6</td><td style = \"text-align: right;\">2024</td><td style = \"text-align: right;\">12</td><td style = \"text-align: right;\">12</td><td style = \"text-align: right;\">7.43593</td><td style = \"text-align: right;\">46.9544</td><td style = \"text-align: right;\">573.6</td><td style = \"text-align: right;\">10</td><td style = \"text-align: right;\">37</td><td style = \"text-align: right;\">20</td><td style = \"text-align: right;\">1.75</td><td style = \"text-align: right;\">66.81</td><td style = \"text-align: right;\">1.94</td><td style = \"text-align: right;\">68.49</td><td style = \"text-align: right;\">1.26</td><td style = \"text-align: right;\">69.5</td><td style = \"text-align: right;\">1.19</td><td style = \"text-align: right;\">70.78</td><td style = \"text-align: right;\">34640</td><td style = \"text-align: right;\">1.34718</td><td style = \"text-align: right;\">7.22524</td><td style = \"text-align: right;\">557.88</td><td style = \"text-align: right;\">1</td></tr><tr><td class = \"rowNumber\" style = \"font-weight: bold; text-align: right;\">7</td><td style = \"text-align: right;\">7</td><td style = \"text-align: right;\">2024</td><td style = \"text-align: right;\">12</td><td style = \"text-align: right;\">12</td><td style = \"text-align: right;\">7.4359</td><td style = \"text-align: right;\">46.9544</td><td style = \"text-align: right;\">573.4</td><td style = \"text-align: right;\">10</td><td style = \"text-align: right;\">37</td><td style = \"text-align: right;\">22</td><td style = \"text-align: right;\">1.78</td><td style = \"text-align: right;\">66.86</td><td style = \"text-align: right;\">1.94</td><td style = \"text-align: right;\">68.45</td><td style = \"text-align: right;\">1.24</td><td style = \"text-align: right;\">69.53</td><td style = \"text-align: right;\">1.21</td><td style = \"text-align: right;\">70.83</td><td style = \"text-align: right;\">34642</td><td style = \"text-align: right;\">2.53954</td><td style = \"text-align: right;\">9.76478</td><td style = \"text-align: right;\">557.91</td><td style = \"text-align: right;\">1</td></tr><tr><td class = \"rowNumber\" style = \"font-weight: bold; text-align: right;\">8</td><td style = \"text-align: right;\">8</td><td style = \"text-align: right;\">2024</td><td style = \"text-align: right;\">12</td><td style = \"text-align: right;\">12</td><td style = \"text-align: right;\">7.43589</td><td style = \"text-align: right;\">46.9545</td><td style = \"text-align: right;\">573.2</td><td style = \"text-align: right;\">10</td><td style = \"text-align: right;\">37</td><td style = \"text-align: right;\">23</td><td style = \"text-align: right;\">1.76</td><td style = \"text-align: right;\">66.82</td><td style = \"text-align: right;\">1.89</td><td style = \"text-align: right;\">68.48</td><td style = \"text-align: right;\">1.24</td><td style = \"text-align: right;\">69.54</td><td style = \"text-align: right;\">1.18</td><td style = \"text-align: right;\">70.77</td><td style = \"text-align: right;\">34643</td><td style = \"text-align: right;\">1.34718</td><td style = \"text-align: right;\">11.112</td><td style = \"text-align: right;\">557.93</td><td style = \"text-align: right;\">1</td></tr><tr><td class = \"rowNumber\" style = \"font-weight: bold; text-align: right;\">9</td><td style = \"text-align: right;\">9</td><td style = \"text-align: right;\">2024</td><td style = \"text-align: right;\">12</td><td style = \"text-align: right;\">12</td><td style = \"text-align: right;\">7.43588</td><td style = \"text-align: right;\">46.9545</td><td style = \"text-align: right;\">573.2</td><td style = \"text-align: right;\">10</td><td style = \"text-align: right;\">37</td><td style = \"text-align: right;\">24</td><td style = \"text-align: right;\">1.75</td><td style = \"text-align: right;\">66.88</td><td style = \"text-align: right;\">1.86</td><td style = \"text-align: right;\">68.39</td><td style = \"text-align: right;\">1.23</td><td style = \"text-align: right;\">69.46</td><td style = \"text-align: right;\">1.19</td><td style = \"text-align: right;\">70.8</td><td style = \"text-align: right;\">34644</td><td style = \"text-align: right;\">0.761114</td><td style = \"text-align: right;\">11.8731</td><td style = \"text-align: right;\">557.89</td><td style = \"text-align: right;\">1</td></tr><tr><td class = \"rowNumber\" style = \"font-weight: bold; text-align: right;\">10</td><td style = \"text-align: right;\">10</td><td style = \"text-align: right;\">2024</td><td style = \"text-align: right;\">12</td><td style = \"text-align: right;\">12</td><td style = \"text-align: right;\">7.43587</td><td style = \"text-align: right;\">46.9545</td><td style = \"text-align: right;\">573.3</td><td style = \"text-align: right;\">10</td><td style = \"text-align: right;\">37</td><td style = \"text-align: right;\">25</td><td style = \"text-align: right;\">1.73</td><td style = \"text-align: right;\">66.82</td><td style = \"text-align: right;\">1.88</td><td style = \"text-align: right;\">68.44</td><td style = \"text-align: right;\">1.27</td><td style = \"text-align: right;\">69.5</td><td style = \"text-align: right;\">1.19</td><td style = \"text-align: right;\">70.79</td><td style = \"text-align: right;\">34645</td><td style = \"text-align: right;\">1.34718</td><td style = \"text-align: right;\">13.2202</td><td style = \"text-align: right;\">557.87</td><td style = \"text-align: right;\">1</td></tr><tr><td class = \"rowNumber\" style = \"font-weight: bold; text-align: right;\">11</td><td style = \"text-align: right;\">11</td><td style = \"text-align: right;\">2024</td><td style = \"text-align: right;\">12</td><td style = \"text-align: right;\">12</td><td style = \"text-align: right;\">7.43586</td><td style = \"text-align: right;\">46.9545</td><td style = \"text-align: right;\">573.4</td><td style = \"text-align: right;\">10</td><td style = \"text-align: right;\">37</td><td style = \"text-align: right;\">26</td><td style = \"text-align: right;\">1.73</td><td style = \"text-align: right;\">66.91</td><td style = \"text-align: right;\">1.91</td><td style = \"text-align: right;\">68.46</td><td style = \"text-align: right;\">1.23</td><td style = \"text-align: right;\">69.49</td><td style = \"text-align: right;\">1.17</td><td style = \"text-align: right;\">70.76</td><td style = \"text-align: right;\">34646</td><td style = \"text-align: right;\">1.34718</td><td style = \"text-align: right;\">14.5674</td><td style = \"text-align: right;\">557.94</td><td style = \"text-align: right;\">1</td></tr><tr><td class = \"rowNumber\" style = \"font-weight: bold; text-align: right;\">12</td><td style = \"text-align: right;\">12</td><td style = \"text-align: right;\">2024</td><td style = \"text-align: right;\">12</td><td style = \"text-align: right;\">12</td><td style = \"text-align: right;\">7.43584</td><td style = \"text-align: right;\">46.9545</td><td style = \"text-align: right;\">573.1</td><td style = \"text-align: right;\">10</td><td style = \"text-align: right;\">37</td><td style = \"text-align: right;\">28</td><td style = \"text-align: right;\">1.7</td><td style = \"text-align: right;\">66.87</td><td style = \"text-align: right;\">1.88</td><td style = \"text-align: right;\">68.5</td><td style = \"text-align: right;\">1.26</td><td style = \"text-align: right;\">69.51</td><td style = \"text-align: right;\">1.19</td><td style = \"text-align: right;\">70.82</td><td style = \"text-align: right;\">34648</td><td style = \"text-align: right;\">1.88488</td><td style = \"text-align: right;\">16.4523</td><td style = \"text-align: right;\">557.92</td><td style = \"text-align: right;\">1</td></tr><tr><td class = \"rowNumber\" style = \"font-weight: bold; text-align: right;\">13</td><td style = \"text-align: right;\">13</td><td style = \"text-align: right;\">2024</td><td style = \"text-align: right;\">12</td><td style = \"text-align: right;\">12</td><td style = \"text-align: right;\">7.43583</td><td style = \"text-align: right;\">46.9545</td><td style = \"text-align: right;\">572.8</td><td style = \"text-align: right;\">10</td><td style = \"text-align: right;\">37</td><td style = \"text-align: right;\">29</td><td style = \"text-align: right;\">1.72</td><td style = \"text-align: right;\">66.89</td><td style = \"text-align: right;\">1.88</td><td style = \"text-align: right;\">68.49</td><td style = \"text-align: right;\">1.24</td><td style = \"text-align: right;\">69.5</td><td style = \"text-align: right;\">1.19</td><td style = \"text-align: right;\">70.83</td><td style = \"text-align: right;\">34649</td><td style = \"text-align: right;\">0.761113</td><td style = \"text-align: right;\">17.2134</td><td style = \"text-align: right;\">557.91</td><td style = \"text-align: right;\">1</td></tr><tr><td style = \"text-align: right;\">&vellip;</td><td style = \"text-align: right;\">&vellip;</td><td style = \"text-align: right;\">&vellip;</td><td style = \"text-align: right;\">&vellip;</td><td style = \"text-align: right;\">&vellip;</td><td style = \"text-align: right;\">&vellip;</td><td style = \"text-align: right;\">&vellip;</td><td style = \"text-align: right;\">&vellip;</td><td style = \"text-align: right;\">&vellip;</td><td style = \"text-align: right;\">&vellip;</td><td style = \"text-align: right;\">&vellip;</td><td style = \"text-align: right;\">&vellip;</td><td style = \"text-align: right;\">&vellip;</td><td style = \"text-align: right;\">&vellip;</td><td style = \"text-align: right;\">&vellip;</td><td style = \"text-align: right;\">&vellip;</td><td style = \"text-align: right;\">&vellip;</td><td style = \"text-align: right;\">&vellip;</td><td style = \"text-align: right;\">&vellip;</td><td style = \"text-align: right;\">&vellip;</td><td style = \"text-align: right;\">&vellip;</td><td style = \"text-align: right;\">&vellip;</td><td style = \"text-align: right;\">&vellip;</td><td style = \"text-align: right;\">&vellip;</td></tr><tr><td class = \"rowNumber\" style = \"font-weight: bold; text-align: right;\">3883</td><td style = \"text-align: right;\">3883</td><td style = \"text-align: right;\">2024</td><td style = \"text-align: right;\">12</td><td style = \"text-align: right;\">12</td><td style = \"text-align: right;\">7.43718</td><td style = \"text-align: right;\">46.9517</td><td style = \"text-align: right;\">572.7</td><td style = \"text-align: right;\">11</td><td style = \"text-align: right;\">55</td><td style = \"text-align: right;\">45</td><td style = \"text-align: right;\">1.61</td><td style = \"text-align: right;\">70.27</td><td style = \"text-align: right;\">1.72</td><td style = \"text-align: right;\">71.67</td><td style = \"text-align: right;\">1.36</td><td style = \"text-align: right;\">70.09</td><td style = \"text-align: right;\">1.19</td><td style = \"text-align: right;\">71.87</td><td style = \"text-align: right;\">39345</td><td style = \"text-align: right;\">0.761153</td><td style = \"text-align: right;\">4241.63</td><td style = \"text-align: right;\">561.56</td><td style = \"text-align: right;\">1</td></tr><tr><td class = \"rowNumber\" style = \"font-weight: bold; text-align: right;\">3884</td><td style = \"text-align: right;\">3884</td><td style = \"text-align: right;\">2024</td><td style = \"text-align: right;\">12</td><td style = \"text-align: right;\">12</td><td style = \"text-align: right;\">7.43718</td><td style = \"text-align: right;\">46.9517</td><td style = \"text-align: right;\">572.7</td><td style = \"text-align: right;\">11</td><td style = \"text-align: right;\">55</td><td style = \"text-align: right;\">46</td><td style = \"text-align: right;\">1.59</td><td style = \"text-align: right;\">70.13</td><td style = \"text-align: right;\">1.65</td><td style = \"text-align: right;\">71.57</td><td style = \"text-align: right;\">1.37</td><td style = \"text-align: right;\">70.07</td><td style = \"text-align: right;\">1.22</td><td style = \"text-align: right;\">71.85</td><td style = \"text-align: right;\">39346</td><td style = \"text-align: right;\">0.0</td><td style = \"text-align: right;\">4241.63</td><td style = \"text-align: right;\">561.56</td><td style = \"text-align: right;\">1</td></tr><tr><td class = \"rowNumber\" style = \"font-weight: bold; text-align: right;\">3885</td><td style = \"text-align: right;\">3885</td><td style = \"text-align: right;\">2024</td><td style = \"text-align: right;\">12</td><td style = \"text-align: right;\">12</td><td style = \"text-align: right;\">7.43718</td><td style = \"text-align: right;\">46.9517</td><td style = \"text-align: right;\">572.7</td><td style = \"text-align: right;\">11</td><td style = \"text-align: right;\">55</td><td style = \"text-align: right;\">47</td><td style = \"text-align: right;\">1.58</td><td style = \"text-align: right;\">70.12</td><td style = \"text-align: right;\">1.72</td><td style = \"text-align: right;\">71.52</td><td style = \"text-align: right;\">1.39</td><td style = \"text-align: right;\">70.08</td><td style = \"text-align: right;\">1.18</td><td style = \"text-align: right;\">71.82</td><td style = \"text-align: right;\">39347</td><td style = \"text-align: right;\">0.0</td><td style = \"text-align: right;\">4241.63</td><td style = \"text-align: right;\">561.56</td><td style = \"text-align: right;\">1</td></tr><tr><td class = \"rowNumber\" style = \"font-weight: bold; text-align: right;\">3886</td><td style = \"text-align: right;\">3886</td><td style = \"text-align: right;\">2024</td><td style = \"text-align: right;\">12</td><td style = \"text-align: right;\">12</td><td style = \"text-align: right;\">7.43718</td><td style = \"text-align: right;\">46.9517</td><td style = \"text-align: right;\">572.7</td><td style = \"text-align: right;\">11</td><td style = \"text-align: right;\">55</td><td style = \"text-align: right;\">48</td><td style = \"text-align: right;\">1.57</td><td style = \"text-align: right;\">70.03</td><td style = \"text-align: right;\">1.67</td><td style = \"text-align: right;\">71.45</td><td style = \"text-align: right;\">1.33</td><td style = \"text-align: right;\">70.07</td><td style = \"text-align: right;\">1.22</td><td style = \"text-align: right;\">71.85</td><td style = \"text-align: right;\">39348</td><td style = \"text-align: right;\">0.0</td><td style = \"text-align: right;\">4241.63</td><td style = \"text-align: right;\">561.56</td><td style = \"text-align: right;\">1</td></tr><tr><td class = \"rowNumber\" style = \"font-weight: bold; text-align: right;\">3887</td><td style = \"text-align: right;\">3887</td><td style = \"text-align: right;\">2024</td><td style = \"text-align: right;\">12</td><td style = \"text-align: right;\">12</td><td style = \"text-align: right;\">7.43718</td><td style = \"text-align: right;\">46.9517</td><td style = \"text-align: right;\">572.7</td><td style = \"text-align: right;\">11</td><td style = \"text-align: right;\">55</td><td style = \"text-align: right;\">50</td><td style = \"text-align: right;\">1.52</td><td style = \"text-align: right;\">69.88</td><td style = \"text-align: right;\">1.68</td><td style = \"text-align: right;\">71.36</td><td style = \"text-align: right;\">1.37</td><td style = \"text-align: right;\">70.01</td><td style = \"text-align: right;\">1.21</td><td style = \"text-align: right;\">71.9</td><td style = \"text-align: right;\">39350</td><td style = \"text-align: right;\">0.0</td><td style = \"text-align: right;\">4241.63</td><td style = \"text-align: right;\">561.56</td><td style = \"text-align: right;\">1</td></tr><tr><td class = \"rowNumber\" style = \"font-weight: bold; text-align: right;\">3888</td><td style = \"text-align: right;\">3888</td><td style = \"text-align: right;\">2024</td><td style = \"text-align: right;\">12</td><td style = \"text-align: right;\">12</td><td style = \"text-align: right;\">7.43718</td><td style = \"text-align: right;\">46.9517</td><td style = \"text-align: right;\">572.7</td><td style = \"text-align: right;\">11</td><td style = \"text-align: right;\">55</td><td style = \"text-align: right;\">51</td><td style = \"text-align: right;\">1.55</td><td style = \"text-align: right;\">69.86</td><td style = \"text-align: right;\">1.68</td><td style = \"text-align: right;\">71.31</td><td style = \"text-align: right;\">1.39</td><td style = \"text-align: right;\">70.1</td><td style = \"text-align: right;\">1.19</td><td style = \"text-align: right;\">71.85</td><td style = \"text-align: right;\">39351</td><td style = \"text-align: right;\">0.0</td><td style = \"text-align: right;\">4241.63</td><td style = \"text-align: right;\">561.56</td><td style = \"text-align: right;\">1</td></tr><tr><td class = \"rowNumber\" style = \"font-weight: bold; text-align: right;\">3889</td><td style = \"text-align: right;\">3889</td><td style = \"text-align: right;\">2024</td><td style = \"text-align: right;\">12</td><td style = \"text-align: right;\">12</td><td style = \"text-align: right;\">7.43718</td><td style = \"text-align: right;\">46.9517</td><td style = \"text-align: right;\">572.7</td><td style = \"text-align: right;\">11</td><td style = \"text-align: right;\">55</td><td style = \"text-align: right;\">52</td><td style = \"text-align: right;\">1.61</td><td style = \"text-align: right;\">69.78</td><td style = \"text-align: right;\">1.74</td><td style = \"text-align: right;\">71.29</td><td style = \"text-align: right;\">1.43</td><td style = \"text-align: right;\">70.07</td><td style = \"text-align: right;\">1.19</td><td style = \"text-align: right;\">71.89</td><td style = \"text-align: right;\">39352</td><td style = \"text-align: right;\">0.0</td><td style = \"text-align: right;\">4241.63</td><td style = \"text-align: right;\">561.56</td><td style = \"text-align: right;\">1</td></tr><tr><td class = \"rowNumber\" style = \"font-weight: bold; text-align: right;\">3890</td><td style = \"text-align: right;\">3890</td><td style = \"text-align: right;\">2024</td><td style = \"text-align: right;\">12</td><td style = \"text-align: right;\">12</td><td style = \"text-align: right;\">7.43718</td><td style = \"text-align: right;\">46.9517</td><td style = \"text-align: right;\">572.7</td><td style = \"text-align: right;\">11</td><td style = \"text-align: right;\">55</td><td style = \"text-align: right;\">53</td><td style = \"text-align: right;\">1.58</td><td style = \"text-align: right;\">69.69</td><td style = \"text-align: right;\">1.67</td><td style = \"text-align: right;\">71.19</td><td style = \"text-align: right;\">1.41</td><td style = \"text-align: right;\">70.09</td><td style = \"text-align: right;\">1.22</td><td style = \"text-align: right;\">71.87</td><td style = \"text-align: right;\">39353</td><td style = \"text-align: right;\">0.0</td><td style = \"text-align: right;\">4241.63</td><td style = \"text-align: right;\">561.56</td><td style = \"text-align: right;\">1</td></tr><tr><td class = \"rowNumber\" style = \"font-weight: bold; text-align: right;\">3891</td><td style = \"text-align: right;\">3891</td><td style = \"text-align: right;\">2024</td><td style = \"text-align: right;\">12</td><td style = \"text-align: right;\">12</td><td style = \"text-align: right;\">7.43718</td><td style = \"text-align: right;\">46.9517</td><td style = \"text-align: right;\">572.7</td><td style = \"text-align: right;\">11</td><td style = \"text-align: right;\">55</td><td style = \"text-align: right;\">55</td><td style = \"text-align: right;\">1.57</td><td style = \"text-align: right;\">69.68</td><td style = \"text-align: right;\">1.65</td><td style = \"text-align: right;\">71.2</td><td style = \"text-align: right;\">1.33</td><td style = \"text-align: right;\">70.07</td><td style = \"text-align: right;\">1.21</td><td style = \"text-align: right;\">71.8</td><td style = \"text-align: right;\">39355</td><td style = \"text-align: right;\">0.0</td><td style = \"text-align: right;\">4241.63</td><td style = \"text-align: right;\">561.56</td><td style = \"text-align: right;\">1</td></tr><tr><td class = \"rowNumber\" style = \"font-weight: bold; text-align: right;\">3892</td><td style = \"text-align: right;\">3892</td><td style = \"text-align: right;\">2024</td><td style = \"text-align: right;\">12</td><td style = \"text-align: right;\">12</td><td style = \"text-align: right;\">7.43718</td><td style = \"text-align: right;\">46.9517</td><td style = \"text-align: right;\">572.7</td><td style = \"text-align: right;\">11</td><td style = \"text-align: right;\">55</td><td style = \"text-align: right;\">56</td><td style = \"text-align: right;\">1.54</td><td style = \"text-align: right;\">69.59</td><td style = \"text-align: right;\">1.64</td><td style = \"text-align: right;\">71.08</td><td style = \"text-align: right;\">1.36</td><td style = \"text-align: right;\">70.03</td><td style = \"text-align: right;\">1.17</td><td style = \"text-align: right;\">71.84</td><td style = \"text-align: right;\">39356</td><td style = \"text-align: right;\">0.0</td><td style = \"text-align: right;\">4241.63</td><td style = \"text-align: right;\">561.56</td><td style = \"text-align: right;\">1</td></tr><tr><td class = \"rowNumber\" style = \"font-weight: bold; text-align: right;\">3893</td><td style = \"text-align: right;\">3893</td><td style = \"text-align: right;\">2024</td><td style = \"text-align: right;\">12</td><td style = \"text-align: right;\">12</td><td style = \"text-align: right;\">7.43718</td><td style = \"text-align: right;\">46.9517</td><td style = \"text-align: right;\">572.5</td><td style = \"text-align: right;\">11</td><td style = \"text-align: right;\">55</td><td style = \"text-align: right;\">57</td><td style = \"text-align: right;\">1.55</td><td style = \"text-align: right;\">69.52</td><td style = \"text-align: right;\">1.68</td><td style = \"text-align: right;\">71.14</td><td style = \"text-align: right;\">1.37</td><td style = \"text-align: right;\">70.08</td><td style = \"text-align: right;\">1.24</td><td style = \"text-align: right;\">71.78</td><td style = \"text-align: right;\">39357</td><td style = \"text-align: right;\">0.0</td><td style = \"text-align: right;\">4241.63</td><td style = \"text-align: right;\">561.56</td><td style = \"text-align: right;\">1</td></tr><tr><td class = \"rowNumber\" style = \"font-weight: bold; text-align: right;\">3894</td><td style = \"text-align: right;\">3894</td><td style = \"text-align: right;\">2024</td><td style = \"text-align: right;\">12</td><td style = \"text-align: right;\">12</td><td style = \"text-align: right;\">7.43718</td><td style = \"text-align: right;\">46.9517</td><td style = \"text-align: right;\">572.4</td><td style = \"text-align: right;\">11</td><td style = \"text-align: right;\">55</td><td style = \"text-align: right;\">58</td><td style = \"text-align: right;\">1.58</td><td style = \"text-align: right;\">69.51</td><td style = \"text-align: right;\">1.67</td><td style = \"text-align: right;\">71.09</td><td style = \"text-align: right;\">1.37</td><td style = \"text-align: right;\">70.06</td><td style = \"text-align: right;\">1.25</td><td style = \"text-align: right;\">71.8</td><td style = \"text-align: right;\">39358</td><td style = \"text-align: right;\">0.0</td><td style = \"text-align: right;\">4241.63</td><td style = \"text-align: right;\">561.56</td><td style = \"text-align: right;\">1</td></tr></tbody></table></div>"
      ],
      "text/latex": [
       "\\begin{tabular}{r|ccccccccccc}\n",
       "\t& Messung & Jahr & Monat & Tag & Longitude & Latitude & Height & Stunde & Minute & Sekunde & \\\\\n",
       "\t\\hline\n",
       "\t& Int64 & Int64 & Int64 & Int64 & Float64 & Float64 & Float64 & Int64 & Int64 & Int64 & \\\\\n",
       "\t\\hline\n",
       "\t1 & 1 & 2024 & 12 & 12 & 7.436 & 46.9544 & 573.8 & 10 & 37 & 14 & $\\dots$ \\\\\n",
       "\t2 & 2 & 2024 & 12 & 12 & 7.43598 & 46.9544 & 573.7 & 10 & 37 & 16 & $\\dots$ \\\\\n",
       "\t3 & 3 & 2024 & 12 & 12 & 7.43597 & 46.9544 & 573.6 & 10 & 37 & 17 & $\\dots$ \\\\\n",
       "\t4 & 4 & 2024 & 12 & 12 & 7.43596 & 46.9544 & 573.7 & 10 & 37 & 18 & $\\dots$ \\\\\n",
       "\t5 & 5 & 2024 & 12 & 12 & 7.43594 & 46.9544 & 573.6 & 10 & 37 & 19 & $\\dots$ \\\\\n",
       "\t6 & 6 & 2024 & 12 & 12 & 7.43593 & 46.9544 & 573.6 & 10 & 37 & 20 & $\\dots$ \\\\\n",
       "\t7 & 7 & 2024 & 12 & 12 & 7.4359 & 46.9544 & 573.4 & 10 & 37 & 22 & $\\dots$ \\\\\n",
       "\t8 & 8 & 2024 & 12 & 12 & 7.43589 & 46.9545 & 573.2 & 10 & 37 & 23 & $\\dots$ \\\\\n",
       "\t9 & 9 & 2024 & 12 & 12 & 7.43588 & 46.9545 & 573.2 & 10 & 37 & 24 & $\\dots$ \\\\\n",
       "\t10 & 10 & 2024 & 12 & 12 & 7.43587 & 46.9545 & 573.3 & 10 & 37 & 25 & $\\dots$ \\\\\n",
       "\t11 & 11 & 2024 & 12 & 12 & 7.43586 & 46.9545 & 573.4 & 10 & 37 & 26 & $\\dots$ \\\\\n",
       "\t12 & 12 & 2024 & 12 & 12 & 7.43584 & 46.9545 & 573.1 & 10 & 37 & 28 & $\\dots$ \\\\\n",
       "\t13 & 13 & 2024 & 12 & 12 & 7.43583 & 46.9545 & 572.8 & 10 & 37 & 29 & $\\dots$ \\\\\n",
       "\t14 & 14 & 2024 & 12 & 12 & 7.43582 & 46.9545 & 572.6 & 10 & 37 & 30 & $\\dots$ \\\\\n",
       "\t15 & 15 & 2024 & 12 & 12 & 7.43581 & 46.9545 & 572.0 & 10 & 37 & 31 & $\\dots$ \\\\\n",
       "\t16 & 16 & 2024 & 12 & 12 & 7.4358 & 46.9545 & 571.6 & 10 & 37 & 32 & $\\dots$ \\\\\n",
       "\t17 & 17 & 2024 & 12 & 12 & 7.43577 & 46.9545 & 571.2 & 10 & 37 & 34 & $\\dots$ \\\\\n",
       "\t18 & 18 & 2024 & 12 & 12 & 7.43576 & 46.9545 & 571.3 & 10 & 37 & 35 & $\\dots$ \\\\\n",
       "\t19 & 19 & 2024 & 12 & 12 & 7.43574 & 46.9545 & 571.4 & 10 & 37 & 36 & $\\dots$ \\\\\n",
       "\t20 & 20 & 2024 & 12 & 12 & 7.43573 & 46.9545 & 571.2 & 10 & 37 & 37 & $\\dots$ \\\\\n",
       "\t21 & 21 & 2024 & 12 & 12 & 7.43571 & 46.9545 & 571.2 & 10 & 37 & 39 & $\\dots$ \\\\\n",
       "\t22 & 22 & 2024 & 12 & 12 & 7.43569 & 46.9546 & 571.2 & 10 & 37 & 40 & $\\dots$ \\\\\n",
       "\t23 & 23 & 2024 & 12 & 12 & 7.43568 & 46.9546 & 571.3 & 10 & 37 & 41 & $\\dots$ \\\\\n",
       "\t24 & 24 & 2024 & 12 & 12 & 7.43567 & 46.9546 & 571.2 & 10 & 37 & 42 & $\\dots$ \\\\\n",
       "\t$\\dots$ & $\\dots$ & $\\dots$ & $\\dots$ & $\\dots$ & $\\dots$ & $\\dots$ & $\\dots$ & $\\dots$ & $\\dots$ & $\\dots$ &  \\\\\n",
       "\\end{tabular}\n"
      ],
      "text/plain": [
       "\u001b[1m3894×23 DataFrame\u001b[0m\n",
       "\u001b[1m  Row \u001b[0m│\u001b[1m Messung \u001b[0m\u001b[1m Jahr  \u001b[0m\u001b[1m Monat \u001b[0m\u001b[1m Tag   \u001b[0m\u001b[1m Longitude \u001b[0m\u001b[1m Latitude \u001b[0m\u001b[1m Height  \u001b[0m\u001b[1m Stunde \u001b[0m\u001b[1m Mi\u001b[0m ⋯\n",
       "      │\u001b[90m Int64   \u001b[0m\u001b[90m Int64 \u001b[0m\u001b[90m Int64 \u001b[0m\u001b[90m Int64 \u001b[0m\u001b[90m Float64   \u001b[0m\u001b[90m Float64  \u001b[0m\u001b[90m Float64 \u001b[0m\u001b[90m Int64  \u001b[0m\u001b[90m In\u001b[0m ⋯\n",
       "──────┼─────────────────────────────────────────────────────────────────────────\n",
       "    1 │       1   2024     12     12    7.436     46.9544    573.8      10     ⋯\n",
       "    2 │       2   2024     12     12    7.43598   46.9544    573.7      10\n",
       "    3 │       3   2024     12     12    7.43597   46.9544    573.6      10\n",
       "    4 │       4   2024     12     12    7.43596   46.9544    573.7      10\n",
       "    5 │       5   2024     12     12    7.43594   46.9544    573.6      10     ⋯\n",
       "    6 │       6   2024     12     12    7.43593   46.9544    573.6      10\n",
       "    7 │       7   2024     12     12    7.4359    46.9544    573.4      10\n",
       "    8 │       8   2024     12     12    7.43589   46.9545    573.2      10\n",
       "  ⋮   │    ⋮       ⋮      ⋮      ⋮        ⋮         ⋮         ⋮       ⋮        ⋱\n",
       " 3888 │    3888   2024     12     12    7.43718   46.9517    572.7      11     ⋯\n",
       " 3889 │    3889   2024     12     12    7.43718   46.9517    572.7      11\n",
       " 3890 │    3890   2024     12     12    7.43718   46.9517    572.7      11\n",
       " 3891 │    3891   2024     12     12    7.43718   46.9517    572.7      11\n",
       " 3892 │    3892   2024     12     12    7.43718   46.9517    572.7      11     ⋯\n",
       " 3893 │    3893   2024     12     12    7.43718   46.9517    572.5      11\n",
       " 3894 │    3894   2024     12     12    7.43718   46.9517    572.4      11\n",
       "\u001b[36m                                                15 columns and 3879 rows omitted\u001b[0m"
      ]
     },
     "metadata": {},
     "output_type": "display_data"
    }
   ],
   "source": [
    "dataset = DataFrame(CSV.File(\"Distanz_&_Hohe_GR_Julia.csv\"))"
   ]
  },
  {
   "cell_type": "markdown",
   "metadata": {},
   "source": [
    "## Creating a subset\n",
    "\n",
    "To reduce the volume of the dataset from 3894 seperate locations to 354, in this step an new array gets created. The array contains 8 columns and 354 rows. Each column represents each measurment device (1. sensor 1 temperature, 2. sensor 1 air humidity, 3. sensor 2 temperature, ...). Each row represents the mean value of 11 consecuetive measurment locations. This step is done to smooth the variability of the variability of the curves as well as to enhance the visibility of the final figure."
   ]
  },
  {
   "cell_type": "code",
   "execution_count": 5,
   "metadata": {},
   "outputs": [
    {
     "name": "stdout",
     "output_type": "stream",
     "text": [
      "[1.7618181818181817 66.86363636363636 1.9018181818181816 68.44454545454546 1.2718181818181817 69.53545454545454 1.2072727272727273 70.78363636363635 1.0; 1.699090909090909 67.01363636363635 1.853636363636364 68.5509090909091 1.2236363636363634 69.58090909090907 1.17 70.86999999999999 1.0; 1.6818181818181819 67.37181818181817 1.830909090909091 68.86999999999999 1.2145454545454546 69.82454545454544 1.1327272727272728 71.1509090909091 1.0; 1.6881818181818182 67.64727272727272 1.831818181818182 69.2681818181818 1.2145454545454546 70.09818181818183 1.1427272727272728 71.42272727272729 1.0; 1.6690909090909087 67.86727272727272 1.8190909090909093 69.46090909090908 1.2145454545454546 70.31454545454544 1.1163636363636362 71.60363636363637 1.0; 1.6563636363636363 67.7690909090909 1.7918181818181815 69.31818181818183 1.2036363636363634 70.33545454545454 1.1090909090909091 71.61727272727272 1.0; 1.6154545454545457 67.75909090909092 1.7718181818181817 69.33 1.2063636363636363 70.37636363636365 1.1154545454545453 71.64545454545454 1.0; 1.5909090909090908 67.82181818181819 1.7372727272727275 69.42272727272727 1.2145454545454546 70.40272727272728 1.1063636363636364 71.72363636363634 1.0; 1.560909090909091 67.95545454545454 1.6945454545454546 69.57909090909092 1.1918181818181819 70.5481818181818 1.1018181818181818 71.87272727272726 1.0; 1.5127272727272725 68.15181818181817 1.6754545454545455 69.75272727272726 1.1472727272727272 70.58454545454548 1.080909090909091 71.92818181818183 1.0; 1.5172727272727273 68.53818181818183 1.6581818181818184 70.05909090909091 1.1418181818181818 70.74636363636364 1.0881818181818181 72.09636363636365 1.0; 1.4772727272727273 68.80272727272728 1.6209090909090909 70.2609090909091 1.1745454545454546 70.82999999999998 1.0763636363636364 72.15363636363637 1.0; 1.4218181818181819 68.85272727272728 1.5590909090909089 70.25090909090908 1.1690909090909092 70.60909090909091 1.0772727272727272 71.93545454545455 1.0; 1.3836363636363638 68.96272727272728 1.539090909090909 70.32454545454544 1.1645454545454543 70.45454545454545 1.080909090909091 71.79727272727273 1.0; 1.323636363636364 68.81272727272726 1.4945454545454546 70.21 1.15 70.34636363636363 1.071818181818182 71.74545454545454 1.0; 1.3363636363636362 69.10363636363637 1.4809090909090907 70.6609090909091 1.12 70.59636363636363 1.0499999999999998 72.03090909090908 1.0; 1.3272727272727274 69.49636363636363 1.491818181818182 71.20454545454545 1.15 71.04272727272728 1.0736363636363637 72.42909090909092 1.0; 1.3572727272727272 69.62818181818182 1.4936363636363637 71.26818181818182 1.1618181818181819 71.1509090909091 1.0754545454545454 72.53181818181818 1.0; 1.3572727272727276 69.65454545454546 1.510909090909091 71.31272727272727 1.1827272727272726 71.16 1.0881818181818181 72.44363636363636 1.0; 1.3690909090909091 69.5490909090909 1.513636363636364 71.25272727272727 1.1936363636363634 71.02272727272727 1.0945454545454547 72.34181818181818 1.0; 1.36 69.3690909090909 1.5109090909090908 71.08 1.1699999999999997 70.84727272727272 1.1036363636363637 72.19727272727272 1.0; 1.3254545454545454 69.26999999999998 1.4836363636363636 70.92727272727274 1.1709090909090907 70.81 1.0818181818181818 72.23454545454545 1.0; 1.3372727272727272 69.41 1.486363636363636 70.99545454545455 1.170909090909091 70.8809090909091 1.1027272727272728 72.33000000000001 1.0; 1.3645454545454547 69.86000000000001 1.502727272727273 71.4718181818182 1.2081818181818182 71.14 1.1418181818181818 72.49636363636363 1.0; 1.3572727272727272 69.90454545454544 1.5145454545454546 71.70454545454545 1.231818181818182 71.18818181818182 1.1590909090909092 72.46636363636364 1.0; 1.4072727272727272 69.88545454545455 1.552727272727273 71.70363636363636 1.2754545454545456 71.20272727272727 1.2072727272727275 72.44363636363636 1.0; 1.451818181818182 69.79 1.5763636363636366 71.56454545454545 1.3163636363636364 71.06090909090908 1.2263636363636363 72.32454545454544 1.0; 1.447272727272727 69.76363636363635 1.6 71.44363636363637 1.3136363636363635 70.92818181818181 1.2290909090909092 72.27818181818182 1.0; 1.470909090909091 69.63727272727273 1.6072727272727276 71.34363636363638 1.3463636363636367 70.81363636363636 1.2645454545454546 72.15181818181817 1.0; 1.508181818181818 69.52727272727273 1.6327272727272728 71.23727272727274 1.3945454545454548 70.7390909090909 1.3081818181818183 71.96454545454547 1.0; 1.5136363636363634 69.18818181818182 1.6354545454545453 70.96454545454546 1.4045454545454545 70.39181818181818 1.3163636363636364 71.68181818181819 1.0; 1.5236363636363637 69.04454545454546 1.6427272727272724 70.66454545454545 1.4181818181818182 70.14636363636363 1.3172727272727272 71.51272727272728 1.0; 1.530909090909091 69.0509090909091 1.6618181818181819 70.66363636363637 1.4345454545454546 70.13181818181819 1.358181818181818 71.54636363636364 1.0; 1.5454545454545454 69.03272727272727 1.6454545454545453 70.65545454545455 1.4563636363636363 70.08454545454543 1.3709090909090906 71.52636363636363 1.0; 1.5536363636363637 68.87545454545455 1.6627272727272726 70.59090909090908 1.4163636363636363 69.93818181818182 1.3218181818181818 71.33727272727273 1.0; 1.528181818181818 68.77636363636363 1.6754545454545455 70.51545454545453 1.4063636363636365 69.94636363636363 1.289090909090909 71.33090909090907 1.0; 1.5145454545454546 68.60818181818182 1.6527272727272726 70.35363636363637 1.331818181818182 69.94272727272727 1.2354545454545454 71.2881818181818 1.0; 1.4645454545454546 68.49 1.6145454545454547 70.14454545454545 1.2690909090909093 69.91181818181818 1.1781818181818182 71.32818181818182 1.0; 1.4445454545454546 68.46272727272728 1.5927272727272728 70.06181818181818 1.2199999999999998 70.0409090909091 1.1218181818181818 71.49909090909091 1.0; 1.4145454545454543 68.56 1.5754545454545457 70.12 1.1899999999999997 70.23181818181818 1.0990909090909091 71.70818181818183 1.0; 1.3909090909090907 68.61818181818181 1.5481818181818183 70.16454545454546 1.1381818181818182 70.33363636363636 1.0481818181818183 71.82363636363635 1.0; 1.3627272727272726 68.66181818181818 1.5345454545454544 70.18909090909091 1.1072727272727272 70.4209090909091 0.9827272727272728 71.89818181818181 1.0; 1.3363636363636366 68.66363636363636 1.502727272727273 70.2409090909091 1.0636363636363637 70.48454545454545 0.9409090909090909 72.01636363636364 1.0; 1.2854545454545454 68.75363636363636 1.4672727272727277 70.30454545454546 1.040909090909091 70.6218181818182 0.9436363636363635 72.19999999999999 1.0; 1.2563636363636363 68.96545454545455 1.445454545454545 70.51727272727273 1.032727272727273 70.83181818181816 0.9281818181818182 72.4218181818182 1.0; 1.2663636363636361 69.24727272727273 1.4327272727272726 70.8090909090909 1.0554545454545456 71.07181818181817 0.9345454545454545 72.55000000000001 1.0; 1.2772727272727273 69.39727272727272 1.4445454545454546 70.88727272727272 1.0954545454545452 71.43272727272728 0.9690909090909091 72.74545454545454 1.0; 1.2927272727272727 69.32272727272728 1.439090909090909 70.66363636363636 1.1163636363636364 71.43272727272728 0.9709090909090907 72.78272727272726 1.0; 1.2972727272727274 69.39545454545454 1.458181818181818 70.96454545454546 1.1318181818181818 71.29636363636364 0.9818181818181816 72.79818181818182 1.0; 1.3036363636363637 69.59818181818183 1.4736363636363636 71.16 1.1290909090909091 71.30909090909091 0.9918181818181817 72.79818181818182 1.0; 1.2863636363636364 69.63363636363636 1.4663636363636365 71.26818181818182 1.1418181818181816 71.28727272727272 1.0190909090909088 72.79999999999998 1.0; 1.2663636363636364 69.63363636363637 1.461818181818182 71.30727272727272 1.1472727272727274 71.25727272727273 1.029090909090909 72.79181818181819 1.0; 1.2799999999999998 69.68363636363637 1.4754545454545456 71.32818181818183 1.15 71.25272727272727 1.0409090909090908 72.74181818181819 1.0; 1.2709090909090908 69.79545454545455 1.4590909090909092 71.34272727272729 1.1181818181818182 71.16090909090909 1.002727272727273 72.68909090909091 1.0; 1.2736363636363637 69.74363636363636 1.451818181818182 71.20090909090908 1.0972727272727274 70.99272727272728 0.9818181818181819 72.46363636363635 1.0; 1.2772727272727271 69.66363636363636 1.4681818181818185 70.99909090909091 1.1181818181818182 70.97090909090909 1.0072727272727275 72.45818181818181 1.0; 1.298181818181818 69.61545454545455 1.491818181818182 71.32000000000001 1.1463636363636363 71.03909090909089 1.03 72.45272727272727 1.0; 1.3063636363636364 69.4281818181818 1.4936363636363637 71.07454545454544 1.1654545454545453 70.99454545454546 1.0445454545454547 72.33272727272728 1.0; 1.32 69.40727272727273 1.500909090909091 71.29454545454546 1.1872727272727273 71.17545454545454 1.060909090909091 72.33818181818181 1.0; 1.339090909090909 69.6590909090909 1.5136363636363634 71.36636363636364 1.2218181818181817 71.40454545454544 1.0981818181818184 72.43363636363637 1.0; 1.3581818181818182 69.75818181818182 1.5181818181818179 71.19454545454545 1.2463636363636363 71.53999999999999 1.1009090909090908 72.70727272727272 1.0; 1.369090909090909 69.67181818181818 1.5218181818181817 70.97909090909091 1.2463636363636363 71.58181818181818 1.1227272727272728 72.57 1.0; 1.3818181818181818 69.64636363636363 1.5472727272727271 71.05181818181818 1.247272727272727 71.05181818181819 1.1145454545454545 72.23181818181818 1.0; 1.3927272727272724 69.56454545454545 1.5345454545454542 71.18181818181819 1.249090909090909 70.97090909090909 1.1245454545454547 72.20272727272727 1.0; 1.4054545454545453 69.23818181818181 1.5654545454545457 70.8309090909091 1.2718181818181817 70.7 1.1363636363636365 72.29 1.0; 1.4399999999999997 69.12909090909092 1.5927272727272728 70.6818181818182 1.289090909090909 70.59818181818183 1.1490909090909092 72.26636363636364 1.0; 1.4563636363636363 69.04181818181817 1.5945454545454545 70.60727272727273 1.3063636363636364 70.44090909090909 1.1590909090909092 72.01545454545455 1.0; 1.4436363636363634 68.80272727272728 1.5727272727272728 70.33090909090909 1.3081818181818183 70.22545454545455 1.1663636363636365 71.7890909090909 1.0; 1.4418181818181817 68.73636363636363 1.5754545454545457 70.14545454545454 1.2999999999999998 70.06181818181818 1.178181818181818 71.63818181818179 1.0; 1.4863636363636366 68.6690909090909 1.6063636363636364 70.06272727272727 1.321818181818182 69.97272727272728 1.1945454545454546 71.52272727272728 1.0; 1.4827272727272727 68.6009090909091 1.6072727272727272 70.22999999999999 1.319090909090909 69.99 1.2045454545454544 71.83818181818182 1.0; 1.5090909090909093 68.50363636363637 1.624545454545455 70.2881818181818 1.343636363636364 70.23272727272727 1.220909090909091 71.93363636363637 1.0; 1.5218181818181817 68.23 1.63 70.28545454545454 1.3636363636363638 70.13727272727273 1.2363636363636366 71.69909090909091 1.0; 1.5254545454545456 67.77000000000001 1.6481818181818182 70.03999999999999 1.3745454545454547 70.0490909090909 1.2536363636363637 71.46909090909092 1.0; 1.5399999999999998 67.91272727272727 1.6481818181818182 69.81181818181818 1.3900000000000001 70.66363636363636 1.2654545454545454 71.52999999999999 1.0; 1.5490909090909093 68.21909090909091 1.6518181818181816 70.07818181818182 1.4218181818181816 71.29454545454544 1.2590909090909088 71.46818181818183 1.0; 1.5436363636363633 68.59 1.6663636363636365 70.31727272727272 1.4263636363636363 71.17454545454547 1.2699999999999998 71.43272727272726 1.0; 1.5363636363636366 68.9 1.6736363636363634 71.15454545454546 1.46 72.64545454545456 1.3018181818181818 72.22272727272725 1.0; 1.54 68.61 1.6727272727272726 71.17545454545454 1.4963636363636363 75.26545454545455 1.4372727272727273 79.29363636363637 1.0; 1.541818181818182 68.56545454545454 1.69 70.70545454545454 1.5072727272727275 73.57545454545453 1.4254545454545453 79.71272727272729 1.0; 1.5518181818181818 68.96818181818183 1.697272727272727 70.55818181818182 1.508181818181818 71.73 1.4018181818181819 76.32 1.0; 1.542727272727273 68.83818181818182 1.7027272727272729 70.59545454545453 1.4518181818181817 70.73454545454545 1.3654545454545455 73.45636363636365 1.0; 1.5290909090909095 68.60818181818182 1.6945454545454546 70.40090909090908 1.4145454545454543 70.1381818181818 1.3427272727272728 72.17909090909092 1.0; 1.507272727272727 68.55545454545455 1.7018181818181817 70.39636363636363 1.3800000000000001 70.02 1.3109090909090908 71.72818181818181 1.0; 1.5045454545454546 68.87272727272726 1.7154545454545451 70.57545454545455 1.3690909090909091 70.12454545454545 1.279090909090909 71.70454545454545 1.0; 1.5099999999999996 68.9981818181818 1.6909090909090907 70.61272727272727 1.3663636363636364 70.28454545454544 1.279090909090909 71.80000000000001 1.0; 1.481818181818182 69.15545454545453 1.6990909090909092 70.74818181818182 1.3463636363636364 70.34545454545454 1.2554545454545456 71.88818181818182 1.0; 1.4763636363636363 68.96454545454544 1.6918181818181817 70.53909090909092 1.340909090909091 70.21545454545455 1.229090909090909 71.77454545454545 1.0; 1.471818181818182 69.14363636363636 1.7045454545454546 70.59727272727272 1.3390909090909093 70.30909090909091 1.24 71.8309090909091 1.0; 1.471818181818182 69.16 1.6945454545454546 70.54727272727273 1.330909090909091 70.36727272727272 1.2218181818181817 71.88545454545455 1.0; 1.436363636363636 69.06 1.66 70.38454545454546 1.261818181818182 70.33272727272727 1.1854545454545453 71.87636363636364 1.0; 1.4236363636363636 69.0509090909091 1.6545454545454545 70.33909090909091 1.2472727272727273 70.37454545454545 1.170909090909091 71.86545454545454 1.0; 1.4018181818181816 69.06454545454545 1.6390909090909092 70.37181818181818 1.2354545454545454 70.43454545454546 1.1645454545454546 71.94727272727272 1.0; 1.4045454545454545 69.15636363636362 1.6427272727272728 70.40636363636364 1.2536363636363637 70.49272727272728 1.169090909090909 71.96454545454547 1.0; 1.4036363636363638 69.23272727272727 1.6418181818181816 70.56 1.2654545454545454 70.54727272727274 1.168181818181818 71.98727272727272 1.0; 1.3981818181818182 69.24818181818183 1.6063636363636364 70.55727272727273 1.2545454545454546 70.57 1.15 71.99181818181818 1.0; 1.4090909090909092 69.21545454545453 1.6354545454545457 70.63000000000001 1.261818181818182 70.57818181818183 1.158181818181818 72.07909090909091 1.0; 1.4145454545454546 69.30272727272728 1.6463636363636363 70.74545454545454 1.2745454545454544 70.62363636363636 1.1663636363636363 72.15272727272728 1.0; 1.4218181818181816 69.40727272727273 1.6645454545454548 70.80818181818182 1.3127272727272727 70.81272727272727 1.2245454545454546 72.35272727272726 1.0; 1.4690909090909094 69.58 1.68 70.89090909090909 1.3354545454545454 70.85999999999999 1.2536363636363637 72.31818181818181 1.0; 1.4754545454545456 69.59727272727272 1.7009090909090907 70.89545454545454 1.369090909090909 70.75545454545455 1.2854545454545454 72.17454545454547 1.0; 1.4763636363636363 69.39 1.710909090909091 70.72545454545454 1.3736363636363635 70.56727272727272 1.270909090909091 72.04 1.0; 1.462727272727273 69.21909090909092 1.6972727272727275 70.5509090909091 1.3563636363636362 70.4190909090909 1.260909090909091 71.94545454545455 1.0; 1.4527272727272729 69.26181818181819 1.71 70.54636363636362 1.3363636363636364 70.42000000000002 1.2663636363636366 71.92272727272729 1.0; 1.4345454545454546 69.49 1.7018181818181817 70.7309090909091 1.3236363636363637 70.52272727272727 1.2390909090909092 71.9409090909091 1.0; 1.4081818181818184 69.44636363636364 1.6727272727272726 70.70454545454545 1.2936363636363637 70.46636363636365 1.2090909090909088 71.94000000000001 1.0; 1.4090909090909092 69.42181818181818 1.6727272727272726 70.60454545454546 1.2627272727272727 70.53090909090908 1.1754545454545455 72.0309090909091 1.0; 1.3754545454545453 69.38545454545455 1.651818181818182 70.53272727272726 1.2454545454545456 70.55454545454546 1.139090909090909 72.07909090909091 1.0; 1.3572727272727274 69.42272727272729 1.6218181818181818 70.56818181818181 1.2254545454545456 70.63000000000001 1.1309090909090909 72.17363636363638 1.0; 1.358181818181818 69.68909090909091 1.631818181818182 70.81363636363636 1.2145454545454546 70.88272727272728 1.1345454545454545 72.4681818181818 1.0; 1.3418181818181818 69.7890909090909 1.5981818181818184 70.92636363636365 1.2272727272727273 70.97454545454546 1.1445454545454545 72.45727272727272 1.0; 1.34 69.88818181818182 1.5990909090909091 71.06272727272727 1.2318181818181815 71.07090909090908 1.1363636363636365 72.49272727272727 1.0; 1.3172727272727274 69.73818181818183 1.579090909090909 70.88818181818183 1.2227272727272727 70.8490909090909 1.1054545454545455 72.23454545454545 1.0; 1.3236363636363637 69.98818181818181 1.5736363636363635 71.11909090909091 1.2381818181818183 71.17363636363638 1.1436363636363636 72.47818181818182 1.0; 1.334545454545455 70.37181818181818 1.6009090909090915 71.55272727272727 1.2563636363636363 71.42181818181817 1.1590909090909092 72.83727272727272 1.0; 1.3609090909090908 70.1209090909091 1.591818181818182 71.30909090909091 1.26 71.21363636363637 1.18 72.67545454545456 1.0; 1.3645454545454547 69.92727272727272 1.6172727272727272 70.96909090909092 1.330909090909091 71.06363636363636 1.2045454545454544 72.60818181818182 1.0; 1.3854545454545453 69.85454545454546 1.6336363636363636 70.85545454545455 1.332727272727273 71.15181818181819 1.230909090909091 72.55272727272727 1.0; 1.3927272727272728 69.83727272727273 1.66 71.03363636363638 1.3527272727272728 71.07999999999998 1.2527272727272727 72.44363636363637 1.0; 1.429090909090909 69.87818181818183 1.6772727272727275 71.20090909090911 1.3727272727272728 71.04818181818179 1.291818181818182 72.38000000000001 1.0; 1.45 69.75727272727273 1.7118181818181817 71.09454545454545 1.3963636363636363 70.87636363636365 1.2981818181818183 72.18545454545455 1.0; 1.4663636363636363 69.6 1.7209090909090905 70.90181818181819 1.4272727272727275 70.62363636363635 1.3181818181818181 71.9090909090909 1.0; 1.507272727272727 69.41909090909091 1.747272727272727 70.64545454545454 1.4363636363636363 70.48181818181818 1.3399999999999999 71.76454545454546 1.0; 1.51 69.21272727272728 1.7454545454545451 70.50909090909092 1.4627272727272727 70.52363636363636 1.3518181818181816 71.76727272727273 1.0; 1.499090909090909 69.03272727272726 1.742727272727273 70.30090909090909 1.4736363636363636 70.27909090909091 1.36 71.62454545454545 1.0; 1.5063636363636363 69.07363636363635 1.7572727272727275 70.37636363636364 1.51 70.41545454545454 1.3900000000000001 71.70363636363636 1.0; 1.5263636363636364 69.1490909090909 1.757272727272727 70.42545454545454 1.4981818181818183 70.23181818181818 1.3854545454545455 71.71363636363635 1.0; 1.531818181818182 69.29272727272726 1.7636363636363634 70.59909090909092 1.4909090909090907 70.25909090909092 1.4 71.73454545454547 1.0; 1.5318181818181815 69.42090909090908 1.7654545454545454 70.73363636363636 1.4790909090909095 70.32545454545453 1.3936363636363638 71.85181818181819 1.0; 1.530909090909091 69.25545454545453 1.7463636363636361 70.59454545454547 1.4872727272727273 70.19181818181818 1.3818181818181818 71.67545454545454 1.0; 1.5227272727272725 69.17727272727275 1.7200000000000002 70.53727272727272 1.4572727272727273 70.14363636363636 1.3445454545454545 71.64090909090909 1.0; 1.5154545454545456 69.22636363636364 1.7309090909090905 70.52454545454545 1.4327272727272726 70.16 1.2909090909090912 71.62 1.0; 1.491818181818182 69.05181818181819 1.7236363636363634 70.36272727272727 1.3790909090909091 70.08090909090909 1.2354545454545454 71.57636363636362 1.0; 1.489090909090909 68.9718181818182 1.719090909090909 70.29090909090907 1.3563636363636364 70.23727272727272 1.2281818181818183 71.71090909090908 1.0; 1.51 68.98454545454545 1.7036363636363634 70.28909090909089 1.3518181818181818 70.29636363636364 1.2463636363636363 71.80818181818182 1.0; 1.502727272727273 69.0109090909091 1.7118181818181817 70.28181818181818 1.362727272727273 70.28454545454547 1.2609090909090908 71.73545454545456 1.0; 1.4872727272727273 68.95909090909092 1.696363636363636 70.24 1.3954545454545455 70.25909090909092 1.2863636363636364 71.72000000000001 1.0; 1.4599999999999995 69.00454545454545 1.6645454545454548 70.2990909090909 1.3736363636363638 70.20181818181817 1.2618181818181817 71.6990909090909 1.0; 1.4418181818181817 68.98818181818181 1.6772727272727272 70.39181818181818 1.3481818181818184 70.18727272727273 1.268181818181818 71.62454545454547 1.0; 1.4354545454545453 69.11363636363636 1.669090909090909 70.47727272727273 1.3518181818181818 70.23636363636363 1.2709090909090908 71.62818181818182 1.0; 1.4536363636363634 69.35454545454544 1.6699999999999997 70.74454545454545 1.3600000000000003 70.42818181818181 1.2690909090909093 71.83454545454543 1.0; 1.4636363636363634 69.52545454545455 1.6918181818181817 70.88363636363636 1.3936363636363638 70.57181818181819 1.299090909090909 71.98727272727272 1.0; 1.4800000000000002 69.88181818181818 1.7118181818181817 71.14181818181818 1.3936363636363636 70.79 1.3172727272727274 72.19272727272727 1.0; 1.5090909090909088 69.86727272727272 1.717272727272727 71.12363636363636 1.4054545454545455 70.74727272727272 1.3218181818181818 72.13181818181819 1.0; 1.5200000000000002 69.62818181818183 1.729090909090909 70.93 1.4336363636363636 70.61454545454545 1.3427272727272725 71.97272727272728 1.0; 1.5436363636363637 69.63363636363636 1.7518181818181817 70.96454545454546 1.4645454545454546 70.67181818181817 1.3772727272727272 72.07909090909091 1.0; 1.5463636363636362 69.67818181818183 1.7536363636363632 70.94818181818181 1.4754545454545456 70.64181818181817 1.38 72.05000000000001 1.0; 1.5145454545454546 69.31545454545454 1.7036363636363634 70.62272727272727 1.4036363636363638 70.3609090909091 1.3472727272727272 71.7609090909091 1.0; 1.4936363636363637 69.33363636363636 1.689090909090909 70.72363636363636 1.3709090909090909 70.52545454545455 1.33 71.86272727272727 1.0; 1.4863636363636366 69.62727272727271 1.6772727272727268 71.07363636363635 1.3681818181818182 70.70818181818181 1.2972727272727271 72.00090909090908 1.0; 1.467272727272727 69.94363636363637 1.6881818181818176 71.30363636363637 1.3445454545454545 70.8 1.2827272727272727 72.18545454545455 1.0; 1.4554545454545456 69.65545454545453 1.678181818181818 71.02999999999999 1.3409090909090913 70.58272727272728 1.2572727272727273 72.11090909090909 1.0; 1.4227272727272726 69.45090909090908 1.65 70.81545454545453 1.3245454545454547 70.41636363636363 1.2181818181818183 71.87909090909092 1.0; 1.4272727272727272 69.89363636363636 1.6472727272727274 71.13818181818182 1.289090909090909 70.7481818181818 1.201818181818182 72.38181818181819 1.0; 1.4027272727272726 70.72454545454545 1.6272727272727274 71.93909090909091 1.2854545454545454 71.32727272727271 1.187272727272727 72.86727272727273 2.0; 1.3754545454545455 71.15181818181817 1.6045454545454545 72.15727272727273 1.2790909090909095 71.52090909090909 1.1781818181818182 73.05909090909091 2.0; 1.3618181818181818 70.90181818181819 1.5654545454545454 71.99818181818182 1.23 71.42636363636363 1.1381818181818184 72.94 2.0; 1.3454545454545455 70.61454545454545 1.563636363636364 71.78636363636362 1.239090909090909 71.36545454545455 1.1163636363636364 72.89454545454547 2.0; 1.3281818181818184 70.82090909090908 1.538181818181818 72.07545454545453 1.2045454545454546 71.68545454545455 1.1172727272727272 73.20636363636363 2.0; 1.3018181818181818 71.10909090909091 1.532727272727273 72.37181818181818 1.199090909090909 71.94363636363636 1.110909090909091 73.40545454545453 2.0; 1.3118181818181822 71.31727272727274 1.5154545454545454 72.51727272727273 1.1727272727272728 71.92999999999999 1.0863636363636364 73.37818181818182 2.0; 1.3081818181818183 71.17181818181817 1.5200000000000002 72.37181818181818 1.1818181818181814 71.8190909090909 1.080909090909091 73.23181818181818 2.0; 1.3036363636363637 71.67545454545454 1.5190909090909093 72.93272727272728 1.196363636363636 72.26818181818182 1.0863636363636364 73.68818181818182 2.0; 1.2836363636363635 71.61818181818182 1.499090909090909 72.95909090909093 1.178181818181818 72.24181818181818 1.0727272727272728 73.69 2.0; 1.2454545454545454 71.6209090909091 1.482727272727273 72.78909090909092 1.1654545454545453 72.1718181818182 1.0545454545454547 73.61636363636364 2.0; 1.2445454545454544 71.71454545454547 1.4663636363636363 72.80545454545455 1.1372727272727272 72.23181818181818 1.0445454545454544 73.5909090909091 2.0; 1.2254545454545456 71.80272727272727 1.456363636363636 72.88909090909091 1.139090909090909 72.24454545454545 1.039090909090909 73.46454545454546 2.0; 1.2436363636363639 71.4809090909091 1.4754545454545456 72.57363636363635 1.1581818181818182 72.04181818181819 1.06 73.28545454545453 2.0; 1.257272727272727 71.51272727272726 1.4800000000000002 72.64727272727272 1.186363636363636 73.11090909090908 1.0709090909090908 73.61909090909091 2.0; 1.2663636363636364 71.64999999999999 1.4954545454545454 72.86727272727272 1.2181818181818185 73.23545454545454 1.0836363636363635 73.65727272727273 2.0; 1.2681818181818179 71.7390909090909 1.5000000000000002 73.11999999999999 1.2336363636363634 73.02727272727273 1.0954545454545455 73.55999999999999 2.0; 1.2772727272727271 72.01636363636364 1.520909090909091 73.55909090909091 1.2309090909090907 72.89545454545456 1.1081818181818182 73.6290909090909 2.0; 1.2672727272727273 72.47636363636364 1.5372727272727273 74.06090909090909 1.2590909090909088 72.56181818181818 1.1127272727272726 73.74818181818182 2.0; 1.280909090909091 72.48636363636363 1.5190909090909093 73.80363636363636 1.249090909090909 72.55363636363637 1.1336363636363638 73.9709090909091 2.0; 1.2636363636363634 72.26636363636364 1.5145454545454546 73.19636363636363 1.229090909090909 72.06454545454545 1.121818181818182 73.60727272727273 2.0; 1.2409090909090912 71.61909090909091 1.4736363636363636 72.49545454545455 1.2254545454545456 71.60181818181819 1.1254545454545453 73.10000000000001 2.0; 1.2399999999999998 70.95545454545454 1.4700000000000002 71.94000000000001 1.2227272727272729 71.45090909090908 1.1418181818181818 72.73454545454545 2.0; 1.26 70.68181818181819 1.4745454545454548 71.67727272727274 1.2254545454545456 71.33090909090909 1.1481818181818182 72.63272727272728 2.0; 1.2627272727272727 70.81272727272727 1.4772727272727273 71.73363636363636 1.2563636363636363 71.86727272727272 1.1618181818181819 73.02272727272727 2.0; 1.2854545454545452 71.43454545454546 1.4800000000000002 72.26454545454546 1.2518181818181817 72.00636363636363 1.149090909090909 73.09636363636363 2.0; 1.2672727272727273 71.30818181818182 1.4790909090909095 72.32727272727273 1.2545454545454546 71.71818181818183 1.1172727272727274 72.92090909090908 2.0; 1.2627272727272727 71.07727272727271 1.4672727272727273 72.2590909090909 1.2218181818181817 71.62272727272727 1.1090909090909091 72.93909090909091 2.0; 1.280909090909091 72.05727272727273 1.5027272727272725 72.99363636363636 1.259090909090909 72.45818181818183 1.1436363636363636 74.03636363636363 2.0; 1.2945454545454544 73.29454545454546 1.4954545454545454 74.29545454545455 1.240909090909091 73.83818181818182 1.1600000000000001 75.33363636363637 2.0; 1.2963636363636364 73.71545454545455 1.5009090909090907 74.81545454545456 1.2645454545454546 74.08545454545454 1.17 75.58090909090909 2.0; 1.302727272727273 73.40272727272726 1.497272727272727 74.60090909090908 1.252727272727273 73.7181818181818 1.1572727272727272 75.26727272727273 2.0; 1.28 72.94454545454546 1.4718181818181817 73.95727272727272 1.2363636363636366 72.9709090909091 1.1327272727272726 74.52636363636363 2.0; 1.302727272727273 73.6190909090909 1.461818181818182 74.34727272727272 1.2436363636363639 73.10636363636364 1.1454545454545455 74.6 2.0; 1.2954545454545454 74.40272727272728 1.4800000000000002 75.36636363636363 1.2536363636363637 74.04454545454546 1.16 75.49545454545455 2.0; 1.2945454545454547 74.63272727272728 1.4700000000000002 75.79272727272728 1.250909090909091 74.13545454545455 1.158181818181818 75.42909090909092 2.0; 1.302727272727273 74.3609090909091 1.4554545454545453 75.48636363636363 1.2372727272727273 73.79636363636364 1.1418181818181816 74.98818181818183 2.0; 1.2790909090909093 74.27090909090909 1.4481818181818182 75.30636363636366 1.2227272727272727 73.29818181818183 1.1336363636363636 74.28999999999999 2.0; 1.2954545454545452 74.08363636363636 1.430909090909091 75.07 1.2054545454545453 73.05818181818182 1.1172727272727272 74.08181818181819 2.0; 1.2827272727272725 73.48272727272727 1.409090909090909 74.58454545454546 1.2045454545454546 72.90181818181817 1.1090909090909091 74.05272727272728 2.0; 1.2918181818181818 74.01545454545455 1.4227272727272728 75.13090909090909 1.2200000000000002 73.48272727272727 1.1190909090909094 74.49727272727272 2.0; 1.2854545454545456 74.26909090909089 1.4218181818181816 75.3790909090909 1.2045454545454546 73.54818181818182 1.1263636363636365 74.6490909090909 2.0; 1.2927272727272727 74.08727272727272 1.41 75.34 1.211818181818182 73.43 1.1372727272727272 74.78454545454547 2.0; 1.2863636363636364 73.91636363636363 1.3963636363636365 75.19636363636364 1.2018181818181817 73.23272727272727 1.1154545454545455 74.58909090909091 2.0; 1.292727272727273 73.24818181818182 1.3954545454545455 74.51 1.1954545454545453 72.65545454545455 1.130909090909091 74.11090909090909 2.0; 1.2909090909090908 73.27090909090909 1.410909090909091 74.5990909090909 1.229090909090909 72.93636363636365 1.1454545454545455 74.15818181818182 2.0; 1.311818181818182 72.65636363636364 1.42 74.15818181818183 1.251818181818182 72.82000000000001 1.1563636363636365 73.91545454545454 1.0; 1.3127272727272727 72.02727272727272 1.4363636363636363 73.58545454545455 1.259090909090909 72.45818181818184 1.1872727272727273 73.7090909090909 1.0; 1.3299999999999998 71.32818181818182 1.4418181818181817 72.96636363636362 1.2772727272727273 71.95454545454545 1.1909090909090907 73.27363636363637 1.0; 1.3254545454545457 70.96272727272728 1.43 72.63818181818182 1.2754545454545456 71.61999999999999 1.2045454545454546 73.0690909090909 1.0; 1.3263636363636366 70.72818181818182 1.44 72.42272727272727 1.2981818181818183 71.55545454545455 1.2027272727272726 73.06454545454545 1.0; 1.3181818181818181 70.69818181818181 1.4390909090909092 72.40363636363637 1.3136363636363635 71.60000000000001 1.21 72.9090909090909 1.0; 1.3154545454545457 70.64363636363636 1.458181818181818 72.34818181818181 1.3281818181818184 71.62181818181818 1.2136363636363638 72.90090909090908 1.0; 1.330909090909091 70.4981818181818 1.4509090909090907 72.20363636363635 1.329090909090909 71.44363636363636 1.2390909090909092 72.81363636363636 1.0; 1.349090909090909 70.3390909090909 1.4663636363636363 72.17636363636366 1.3327272727272725 71.33727272727273 1.241818181818182 72.74000000000001 1.0; 1.3663636363636364 70.26545454545455 1.4700000000000002 72.16818181818181 1.3354545454545457 71.24181818181819 1.261818181818182 72.62727272727271 1.0; 1.3609090909090908 70.20454545454545 1.4536363636363634 72.01818181818182 1.3236363636363637 71.08090909090907 1.2654545454545454 72.54727272727273 1.0; 1.3436363636363637 70.15181818181819 1.4445454545454544 71.94818181818181 1.3363636363636362 71.03090909090909 1.269090909090909 72.4309090909091 1.0; 1.3527272727272726 70.1009090909091 1.4536363636363636 71.79363636363637 1.3263636363636364 70.98 1.2709090909090905 72.38181818181818 1.0; 1.3609090909090908 69.97363636363637 1.4645454545454548 71.71636363636362 1.3527272727272726 70.93272727272728 1.2927272727272727 72.30454545454545 1.0; 1.3663636363636362 69.98 1.4754545454545456 71.67181818181818 1.362727272727273 70.88454545454546 1.3090909090909093 72.23 1.0; 1.3863636363636367 69.89090909090909 1.4745454545454544 71.5790909090909 1.3590909090909091 70.78727272727272 1.3181818181818181 72.12181818181818 1.0; 1.3790909090909091 69.7518181818182 1.49 71.5490909090909 1.3663636363636364 70.88363636363634 1.3145454545454547 72.0690909090909 1.0; 1.4072727272727272 69.75272727272727 1.4945454545454546 71.56909090909092 1.3527272727272726 70.91181818181819 1.301818181818182 72.08090909090907 1.0; 1.4172727272727272 69.74545454545455 1.5045454545454546 71.64 1.369090909090909 70.85363636363635 1.2954545454545452 72.03999999999999 1.0; 1.439090909090909 69.69727272727272 1.5145454545454546 71.57818181818183 1.360909090909091 70.8709090909091 1.3081818181818183 72.0190909090909 1.0; 1.4427272727272724 69.68 1.5154545454545454 71.54545454545455 1.3627272727272726 70.85090909090908 1.292727272727273 72.00454545454545 1.0; 1.447272727272727 69.59363636363636 1.5336363636363635 71.59 1.3554545454545455 70.79454545454544 1.2663636363636364 71.9718181818182 1.0; 1.4581818181818178 69.5809090909091 1.5372727272727273 71.54 1.3445454545454547 70.74272727272727 1.2763636363636364 71.99909090909091 1.0; 1.4654545454545451 69.48636363636363 1.5336363636363637 71.48454545454545 1.3463636363636364 70.79363636363634 1.2663636363636364 72.0709090909091 1.0; 1.4854545454545454 69.5190909090909 1.5345454545454549 71.44454545454546 1.3590909090909091 70.88636363636364 1.289090909090909 72.16272727272727 1.0; 1.4872727272727273 69.56090909090909 1.5554545454545454 71.46636363636362 1.3463636363636367 70.9609090909091 1.280909090909091 72.24181818181818 1.0; 1.5 69.55 1.5936363636363637 71.46636363636365 1.3618181818181818 70.92909090909092 1.281818181818182 72.24181818181818 1.0; 1.5127272727272727 69.63545454545455 1.579090909090909 71.54181818181819 1.3518181818181818 70.89727272727272 1.2863636363636366 72.22545454545455 1.0; 1.5218181818181817 69.54181818181819 1.580909090909091 71.41727272727272 1.369090909090909 70.86636363636363 1.290909090909091 72.24727272727272 1.0; 1.5318181818181815 69.50181818181818 1.6045454545454547 71.43181818181819 1.363636363636364 70.99727272727273 1.2836363636363635 72.32363636363635 1.0; 1.5272727272727273 69.55363636363636 1.6090909090909091 71.49454545454546 1.3463636363636362 71.02272727272727 1.2799999999999998 72.37545454545455 1.0; 1.5318181818181815 69.49272727272728 1.6118181818181818 71.42181818181818 1.3490909090909093 70.98818181818183 1.302727272727273 72.37818181818183 1.0; 1.531818181818182 69.50090909090909 1.623636363636364 71.36909090909091 1.3654545454545457 71.02090909090909 1.2945454545454547 72.36090909090909 1.0; 1.531818181818182 69.53090909090908 1.6318181818181818 71.35000000000001 1.3863636363636365 71.11999999999999 1.3145454545454547 72.34636363636365 1.0; 1.5581818181818183 69.51181818181819 1.6472727272727274 71.32090909090908 1.4081818181818184 71.13000000000001 1.3263636363636362 72.36090909090909 1.0; 1.5654545454545454 69.52363636363636 1.6636363636363638 71.29090909090908 1.42 71.10000000000001 1.3445454545454545 72.31909090909092 1.0; 1.5781818181818181 69.4809090909091 1.6818181818181819 71.26545454545455 1.41 70.99363636363637 1.330909090909091 72.21545454545455 1.0; 1.5781818181818184 69.34181818181816 1.6745454545454548 71.12727272727274 1.3836363636363638 70.76818181818182 1.2963636363636362 72.10000000000001 1.0; 1.5854545454545457 69.26 1.6854545454545453 71.04181818181817 1.3954545454545457 70.77818181818182 1.3127272727272727 72.14454545454545 1.0; 1.59 69.19636363636364 1.6881818181818182 71.00000000000001 1.4027272727272728 70.80999999999999 1.3127272727272727 72.21909090909091 1.0; 1.6163636363636364 69.07363636363635 1.708181818181818 70.95545454545456 1.4236363636363636 70.72909090909091 1.3245454545454545 72.19454545454546 1.0; 1.618181818181818 68.92999999999999 1.7163636363636363 70.93636363636362 1.438181818181818 70.71636363636362 1.3263636363636364 72.16545454545454 1.0; 1.6281818181818182 68.92909090909092 1.7281818181818183 70.80727272727272 1.4636363636363638 70.78363636363635 1.3518181818181816 72.16090909090909 1.0; 1.6481818181818182 68.85272727272728 1.7390909090909086 70.67090909090909 1.4763636363636365 70.76818181818182 1.3827272727272726 72.12818181818182 1.0; 1.64 68.74545454545455 1.7472727272727275 70.65363636363635 1.4945454545454546 70.70181818181818 1.3654545454545453 72.06363636363636 1.0; 1.6545454545454545 68.56818181818181 1.7527272727272725 70.56363636363635 1.4745454545454544 70.4309090909091 1.378181818181818 71.86 1.0; 1.6618181818181819 68.49727272727272 1.7518181818181815 70.47272727272727 1.4672727272727273 70.39272727272727 1.359090909090909 71.77999999999999 1.0; 1.6345454545454545 68.54181818181819 1.7409090909090907 70.61272727272727 1.460909090909091 70.3809090909091 1.3790909090909091 71.77 1.0; 1.6490909090909087 68.65272727272728 1.7300000000000002 70.61090909090909 1.4881818181818183 70.27454545454545 1.3927272727272726 71.74272727272727 1.0; 1.6563636363636363 68.84090909090908 1.7554545454545456 70.76272727272728 1.510909090909091 70.4127272727273 1.4136363636363638 71.75818181818181 1.0; 1.6700000000000002 69.06818181818183 1.7763636363636364 70.95545454545454 1.5354545454545454 70.44181818181818 1.4227272727272726 71.8418181818182 1.0; 1.6572727272727272 69.08181818181818 1.7754545454545456 70.89545454545456 1.5300000000000002 70.51 1.4254545454545455 71.8509090909091 1.0; 1.6672727272727272 69.13909090909091 1.7863636363636366 70.89454545454545 1.5336363636363637 70.51454545454546 1.4318181818181817 71.91090909090909 1.0; 1.6718181818181816 69.24454545454545 1.8027272727272725 71.00636363636363 1.5563636363636368 70.57909090909091 1.4436363636363634 71.97909090909091 1.0; 1.696363636363636 69.45272727272727 1.8127272727272732 71.12636363636364 1.573636363636364 70.83545454545455 1.4790909090909095 72.30090909090909 1.0; 1.7100000000000002 69.70363636363636 1.8436363636363635 71.25454545454545 1.5990909090909093 70.92636363636365 1.4754545454545456 72.44272727272727 1.0; 1.7645454545454546 69.75272727272728 1.8781818181818182 71.33454545454543 1.621818181818182 70.7909090909091 1.508181818181818 72.27545454545454 1.0; 1.7436363636363637 69.30909090909091 1.8763636363636367 70.94363636363637 1.6036363636363637 70.47272727272728 1.4872727272727273 71.94454545454545 1.0; 1.7481818181818183 68.9890909090909 1.8727272727272728 70.61636363636363 1.591818181818182 70.28909090909092 1.4800000000000002 71.79818181818182 1.0; 1.7390909090909092 68.96363636363635 1.8845454545454545 70.57636363636364 1.5763636363636364 70.23909090909092 1.4936363636363632 71.75363636363636 1.0; 1.7427272727272725 68.95545454545457 1.876363636363636 70.55545454545454 1.5727272727272732 70.18363636363637 1.489090909090909 71.67090909090908 1.0; 1.7263636363636365 68.86181818181818 1.8663636363636364 70.47363636363637 1.5654545454545457 70.16090909090909 1.4854545454545454 71.60000000000001 1.0; 1.6963636363636363 68.76181818181819 1.8445454545454545 70.39454545454547 1.5445454545454547 70.17363636363636 1.4700000000000002 71.57454545454546 1.0; 1.7 68.96909090909091 1.8327272727272728 70.62090909090911 1.5245454545454549 70.39636363636365 1.4572727272727273 71.73636363636363 1.0; 1.6736363636363636 69.13545454545455 1.810909090909091 70.78090909090909 1.517272727272727 70.55727272727273 1.4481818181818182 71.84363636363636 1.0; 1.670909090909091 69.31090909090908 1.8018181818181818 70.9309090909091 1.5154545454545454 70.62363636363635 1.4418181818181814 71.93181818181819 1.0; 1.6445454545454545 69.16454545454545 1.7854545454545454 70.82545454545453 1.5036363636363637 70.51454545454546 1.428181818181818 71.82999999999998 1.0; 1.6327272727272726 69.11545454545454 1.787272727272727 70.8090909090909 1.5081818181818185 70.45545454545457 1.427272727272727 71.79636363636364 1.0; 1.621818181818182 69.13636363636364 1.7654545454545454 70.75909090909089 1.4909090909090912 70.4890909090909 1.4327272727272726 71.86454545454545 1.0; 1.6354545454545453 69.2390909090909 1.799090909090909 70.85181818181819 1.4781818181818183 70.54636363636364 1.420909090909091 71.85727272727273 1.0; 1.6409090909090909 69.38090909090907 1.813636363636364 70.9990909090909 1.5118181818181817 70.70818181818181 1.4236363636363636 71.91363636363637 1.0; 1.6381818181818184 69.49909090909091 1.8018181818181818 71.13000000000001 1.5209090909090905 70.88000000000001 1.4472727272727275 72.14181818181818 1.0; 1.668181818181818 69.66909090909093 1.8254545454545459 71.27090909090909 1.5318181818181815 71.02818181818182 1.4527272727272726 72.30363636363637 1.0; 1.6627272727272726 69.7090909090909 1.826363636363636 71.24181818181819 1.5372727272727273 70.9890909090909 1.4627272727272727 72.24727272727273 1.0; 1.63 69.33636363636364 1.8018181818181818 70.83818181818181 1.4700000000000002 70.55363636363637 1.4136363636363638 71.88454545454546 1.0; 1.608181818181818 69.12454545454545 1.76 70.62727272727271 1.4227272727272728 70.50636363636363 1.3672727272727272 71.84727272727272 1.0; 1.5990909090909091 69.23818181818183 1.7390909090909092 70.76363636363637 1.419090909090909 70.68181818181819 1.37 72.02 1.0; 1.6063636363636362 69.38909090909091 1.7463636363636363 70.91454545454545 1.4145454545454546 70.79454545454546 1.3663636363636364 72.11272727272727 1.0; 1.6027272727272726 69.34272727272726 1.7090909090909088 70.88363636363637 1.3963636363636363 70.76818181818182 1.3463636363636364 72.07272727272726 1.0; 1.5218181818181817 69.29909090909089 1.6427272727272728 70.90909090909089 1.3272727272727272 70.74999999999999 1.3072727272727271 72.02636363636363 1.0; 1.502727272727273 69.34636363636363 1.6054545454545457 70.98 1.3263636363636364 70.86363636363636 1.270909090909091 72.06727272727272 1.0; 1.5245454545454544 69.45272727272727 1.64 71.12727272727273 1.3654545454545457 70.98909090909092 1.2909090909090908 72.20818181818181 1.0; 1.5627272727272727 69.72 1.6699999999999997 71.39909090909092 1.3936363636363638 71.1381818181818 1.3254545454545454 72.45636363636363 1.0; 1.5509090909090908 69.74909090909091 1.6845454545454543 71.41454545454548 1.4109090909090907 71.11636363636363 1.3245454545454545 72.37909090909089 1.0; 1.5690909090909093 69.4090909090909 1.6845454545454546 71.07272727272729 1.4363636363636365 70.72454545454545 1.3254545454545454 72.0509090909091 1.0; 1.5681818181818181 69.14545454545454 1.6990909090909092 70.78272727272727 1.4427272727272726 70.43545454545455 1.3209090909090908 71.82090909090908 1.0; 1.5654545454545454 68.99272727272728 1.6727272727272726 70.6190909090909 1.4118181818181819 70.27363636363637 1.3127272727272727 71.72545454545455 1.0; 1.5590909090909093 68.99090909090908 1.6936363636363636 70.62090909090908 1.4009090909090907 70.25272727272727 1.3136363636363637 71.81090909090909 1.0; 1.5799999999999998 69.19 1.7027272727272729 70.81272727272727 1.4372727272727273 70.49545454545454 1.3236363636363635 72.06 1.0; 1.5681818181818186 69.34 1.6854545454545453 70.98545454545454 1.4263636363636365 70.63727272727273 1.3227272727272728 72.1309090909091 1.0; 1.5581818181818183 69.34272727272729 1.6845454545454546 70.96636363636364 1.4063636363636365 70.66909090909093 1.33 72.12 1.0; 1.5572727272727276 69.45818181818181 1.686363636363636 71.06363636363636 1.4163636363636363 70.81272727272727 1.339090909090909 72.25181818181817 1.0; 1.5545454545454547 69.46 1.68 71.05636363636364 1.4263636363636363 71.00545454545455 1.3527272727272726 72.49636363636364 1.0; 1.5454545454545459 69.31090909090909 1.6781818181818182 70.91636363636364 1.410909090909091 70.77818181818182 1.34 72.25363636363637 1.0; 1.531818181818182 69.40454545454546 1.6481818181818182 70.99999999999999 1.3863636363636365 70.84454545454547 1.3245454545454545 72.26727272727273 1.0; 1.500909090909091 69.16818181818182 1.6072727272727272 70.78818181818183 1.3472727272727274 70.54090909090908 1.2945454545454542 71.91363636363637 1.0; 1.4718181818181817 69.06454545454545 1.5890909090909089 70.69181818181818 1.3063636363636364 70.48181818181818 1.2618181818181817 71.82090909090908 1.0; 1.4954545454545454 69.64272727272727 1.589090909090909 71.33272727272728 1.3272727272727274 71.05363636363637 1.2754545454545452 72.2781818181818 1.0; 1.4845454545454546 70.27090909090909 1.6009090909090908 71.91818181818181 1.3372727272727272 71.44272727272728 1.2445454545454544 72.16454545454546 1.0; 1.4963636363636363 70.44818181818181 1.6281818181818186 72.19909090909091 1.3690909090909094 71.71999999999998 1.289090909090909 72.41000000000003 1.0; 1.520909090909091 70.63181818181816 1.6263636363636365 72.34181818181818 1.3545454545454545 71.68545454545455 1.299090909090909 72.58818181818184 1.0; 1.510909090909091 70.03727272727274 1.6190909090909094 71.70454545454544 1.3372727272727274 71.02454545454545 1.2799999999999998 72.14909090909092 1.0; 1.5190909090909093 69.64818181818181 1.6363636363636365 71.31818181818181 1.35 70.87545454545455 1.2845454545454544 71.95727272727272 1.0; 1.518181818181818 69.25454545454545 1.660909090909091 70.94818181818181 1.399090909090909 71.53636363636365 1.2872727272727273 71.82727272727273 1.0; 1.5254545454545456 69.0909090909091 1.6490909090909092 70.79636363636364 1.4081818181818184 71.54363636363637 1.268181818181818 71.83636363636361 1.0; 1.5318181818181815 68.99363636363636 1.6563636363636363 70.72909090909091 1.4127272727272726 70.82545454545455 1.2645454545454546 71.77636363636363 1.0; 1.5381818181818183 69.09727272727272 1.6836363636363636 70.82545454545455 1.43 70.5090909090909 1.2518181818181817 71.82636363636364 1.0; 1.5454545454545454 69.61090909090909 1.6845454545454543 71.27181818181818 1.4372727272727273 70.73818181818181 1.2845454545454544 72.19454545454545 1.0; 1.5472727272727271 69.64999999999999 1.7163636363636363 71.29636363636364 1.4618181818181817 70.77000000000001 1.302727272727273 72.24363636363636 1.0; 1.5245454545454549 69.42363636363636 1.6981818181818178 71.02000000000001 1.4145454545454543 70.56454545454545 1.2854545454545454 72.04454545454546 1.0; 1.4854545454545454 69.29181818181817 1.6563636363636363 70.79727272727273 1.3354545454545457 70.30545454545454 1.220909090909091 71.85000000000001 1.0; 1.4700000000000002 69.1809090909091 1.6236363636363635 70.6509090909091 1.304545454545455 70.33636363636364 1.208181818181818 71.87727272727274 1.0; 1.4218181818181819 69.16545454545455 1.6054545454545455 70.62727272727273 1.2763636363636364 70.48363636363636 1.198181818181818 71.9718181818182 1.0; 1.417272727272727 69.33636363636364 1.581818181818182 70.77545454545455 1.260909090909091 70.70545454545453 1.2181818181818183 72.15636363636364 1.0; 1.3981818181818182 69.4090909090909 1.5754545454545452 70.87363636363636 1.2609090909090908 70.77636363636364 1.1936363636363636 72.15545454545453 1.0; 1.4000000000000001 69.45454545454547 1.5590909090909093 70.86636363636363 1.2618181818181817 70.65636363636364 1.2309090909090907 71.99727272727273 1.0; 1.3909090909090909 69.50272727272728 1.5618181818181822 70.96818181818183 1.3181818181818183 70.87090909090908 1.2263636363636363 72.03181818181817 1.0; 1.4154545454545455 69.72909090909091 1.5981818181818184 71.18454545454546 1.3272727272727272 70.90454545454544 1.2645454545454544 72.04090909090908 1.0; 1.4227272727272724 69.67454545454547 1.5909090909090908 71.13636363636364 1.340909090909091 70.69363636363636 1.251818181818182 71.9081818181818 1.0; 1.4318181818181819 69.66363636363636 1.5954545454545452 71.16 1.3563636363636364 70.73272727272727 1.2854545454545452 72.06181818181818 1.0; 1.4245454545454543 69.78909090909092 1.5927272727272728 71.29181818181819 1.3463636363636367 70.81363636363636 1.2681818181818179 72.17727272727274 1.0; 1.4254545454545453 69.77999999999999 1.5954545454545455 71.29727272727273 1.3254545454545457 70.87181818181817 1.2763636363636364 72.26818181818183 1.0; 1.4163636363636363 70.01181818181817 1.6 71.55454545454546 1.3490909090909091 71.12 1.2754545454545454 72.50363636363636 1.0; 1.4354545454545455 70.24545454545455 1.6190909090909094 71.78999999999999 1.35 71.2709090909091 1.2799999999999998 72.54545454545455 1.0; 1.4236363636363636 70.17999999999999 1.64 71.66909090909091 1.3590909090909091 71.15 1.279090909090909 72.46272727272726 1.0; 1.418181818181818 70.10272727272726 1.6272727272727272 71.50818181818182 1.3554545454545452 71.10272727272728 1.290909090909091 72.50090909090909 1.0; 1.3945454545454545 69.96454545454544 1.6163636363636364 71.34727272727272 1.36 71.15181818181817 1.2754545454545452 72.4809090909091 1.0; 1.3954545454545455 70.03454545454544 1.6036363636363637 71.31272727272727 1.3272727272727274 71.0281818181818 1.2536363636363637 72.35272727272726 1.0; 1.3927272727272728 70.43 1.6172727272727274 71.64454545454545 1.3354545454545454 70.99272727272728 1.2736363636363635 72.33545454545455 1.0; 1.404545454545454 70.75 1.6136363636363635 71.94636363636363 1.3336363636363637 70.96636363636364 1.288181818181818 72.19727272727273 1.0; 1.4263636363636365 70.6109090909091 1.6136363636363635 71.80727272727273 1.3663636363636364 71.02181818181818 1.2981818181818185 72.35909090909091 1.0; 1.4318181818181817 70.74363636363636 1.63 72.05181818181818 1.3800000000000001 71.06363636363636 1.3245454545454547 72.29636363636364 1.0; 1.4399999999999997 70.34000000000002 1.631818181818182 71.70727272727272 1.3790909090909091 70.87272727272726 1.3427272727272728 72.12818181818183 1.0; 1.448181818181818 70.17454545454545 1.6209090909090909 71.57454545454546 1.3800000000000003 70.67454545454547 1.3509090909090908 71.98818181818181 1.0; 1.449090909090909 70.75636363636363 1.6145454545454547 71.82363636363637 1.3981818181818182 70.64 1.3572727272727272 71.94181818181818 1.0; 1.4454545454545453 71.19 1.6390909090909085 72.16818181818182 1.4045454545454545 70.63636363636364 1.358181818181818 71.89 1.0; 1.4754545454545456 70.85636363636364 1.6345454545454545 71.99818181818182 1.4218181818181819 70.77181818181816 1.3736363636363638 71.83272727272728 1.0; 1.4845454545454544 70.67818181818181 1.629090909090909 71.95181818181818 1.4063636363636365 70.79818181818182 1.3654545454545455 71.73454545454545 1.0; 1.4927272727272725 70.39818181818183 1.6527272727272726 71.82636363636362 1.4163636363636363 70.79 1.3609090909090908 71.70727272727274 1.0; 1.4963636363636363 70.19 1.6409090909090909 71.6509090909091 1.4272727272727272 70.9590909090909 1.3772727272727272 71.95999999999998 1.0; 1.5 70.19818181818181 1.6754545454545455 71.93545454545455 1.449090909090909 71.26 1.4027272727272726 72.11636363636363 1.0; 1.5090909090909093 70.38636363636364 1.6836363636363636 72.47636363636364 1.468181818181818 71.09363636363638 1.3963636363636363 71.78454545454544 1.0; 1.517272727272727 70.25454545454545 1.6827272727272726 72.25818181818181 1.5045454545454546 71.71727272727274 1.4081818181818182 71.74727272727273 1.0; 1.5218181818181817 70.66636363636363 1.7036363636363634 72.26 1.5009090909090907 72.16818181818182 1.4163636363636363 71.68 1.0; 1.5318181818181815 70.35636363636364 1.7027272727272724 72.09818181818181 1.4954545454545454 70.86272727272728 1.377272727272727 71.32545454545456 1.0; 1.5445454545454547 70.12727272727273 1.7090909090909088 71.94727272727272 1.468181818181818 70.46636363636364 1.3336363636363637 71.41272727272725 1.0; 1.5481818181818183 70.37181818181818 1.7054545454545456 72.00727272727272 1.429090909090909 70.40636363636364 1.2918181818181815 71.57 1.0; 1.5581818181818183 70.13636363636364 1.7027272727272729 71.7809090909091 1.4472727272727275 71.00909090909092 1.2863636363636364 72.08363636363636 1.0; 1.5763636363636364 70.27272727272727 1.7109090909090907 71.83727272727273 1.4563636363636367 71.4090909090909 1.2845454545454544 71.99181818181819 1.0; 1.570909090909091 70.63727272727273 1.7199999999999998 72.0281818181818 1.4363636363636363 70.71909090909092 1.2727272727272725 71.72636363636362 1.0; 1.5836363636363637 70.50727272727273 1.719090909090909 71.81727272727272 1.4063636363636365 70.25818181818182 1.2581818181818183 71.63818181818182 1.0; 1.5781818181818181 70.62454545454545 1.7109090909090912 71.8809090909091 1.4018181818181819 70.08 1.2309090909090907 71.62090909090908 1.0; 1.5799999999999998 70.56 1.7090909090909092 71.88454545454545 1.3736363636363638 70.05454545454546 1.2254545454545456 71.77909090909091 1.0; 1.5672727272727274 69.7990909090909 1.6772727272727275 71.2909090909091 1.3745454545454547 70.06636363636363 1.2090909090909092 71.84090909090908 1.0]"
     ]
    }
   ],
   "source": [
    "data = Array{Float64}(undef,354,9)\n",
    "\n",
    "for i = 1:354\n",
    "    ta = dataset[11*i-10:i*11,11]\n",
    "    tb = dataset[11*i-10:i*11,13]\n",
    "    tc = dataset[11*i-10:i*11,15]\n",
    "    td = dataset[11*i-10:i*11,17]\n",
    "    la = dataset[11*i-10:i*11,12]\n",
    "    lb = dataset[11*i-10:i*11,14]\n",
    "    lc = dataset[11*i-10:i*11,16]\n",
    "    ld = dataset[11*i-10:i*11,18]\n",
    "    color = dataset[11*i-10:i*11,23]\n",
    "    data[i,1] = mean(ta)\n",
    "    data[i,3] = mean(tb)\n",
    "    data[i,5] = mean(tc)\n",
    "    data[i,7] = mean(td)\n",
    "    data[i,2] = mean(la)\n",
    "    data[i,4] = mean(lb)\n",
    "    data[i,6] = mean(lc)\n",
    "    data[i,8] = mean(ld)\n",
    "    if mean(color) > 1.5\n",
    "        data[i,9] = 2\n",
    "    end\n",
    "    if mean(color) < 1.5\n",
    "        data[i,9] = 1\n",
    "    end\n",
    "end\n",
    "print(data)"
   ]
  },
  {
   "cell_type": "markdown",
   "metadata": {},
   "source": [
    "## Creating a function for the cubic-polynomial parameters\n",
    "\n",
    "In this step a function _cubic parameters_ is created. This function will be used to calculate the exact curve of the cubic polynomial with the given values at each height.\n",
    "\n",
    "_Note:_ The standard form of a cubic-polynomial used here is: ax^3 + bx^2 + cx + d."
   ]
  },
  {
   "cell_type": "code",
   "execution_count": 6,
   "metadata": {},
   "outputs": [
    {
     "data": {
      "text/plain": [
       "cubic_parameters (generic function with 1 method)"
      ]
     },
     "metadata": {},
     "output_type": "display_data"
    }
   ],
   "source": [
    "\"\"\"\n",
    "The function cubic_parameters calculates the parameters a, b, c and d for a standard form a cubic polynomial.\n",
    "\n",
    "Inputs:\n",
    "    - lambda1: Value at height 0.5m\n",
    "    - lambda2: Value at height 1m\n",
    "    - lambda3: Value at height 2m\n",
    "    - lambda4: Value at height 3m\n",
    "\n",
    "Outputs:\n",
    "    - Parameters a, b, c and d from the standard form of a cubic-polynomial\n",
    "    - Standard form of a cubic-polynomial: ax^3 + bx^2 + cx + d\n",
    "\"\"\"\n",
    "\n",
    "function cubic_parameters(half_meter,meter,two_meters,three_meters)\n",
    "    a = meter .- (8/15 .* half_meter) .- (2/3 .* two_meters) .+ (1/5 .* three_meters)\n",
    "    b = (16/5 .* half_meter) .- (11/2 .* meter) .+ (3 .* two_meters) .- (7/10 .* three_meters)\n",
    "    c = (17/2 .* meter) .- (88/15 .* half_meter) .- (10/3 .* two_meters) .+ (7/10 .* three_meters)\n",
    "    d = (16/5 .* half_meter) .- (3 .* meter) .+ two_meters .- (1/5 .* three_meters)\n",
    "    \n",
    "    return a,b,c,d\n",
    "end"
   ]
  },
  {
   "cell_type": "markdown",
   "metadata": {},
   "source": [
    "## Applying the function on temperature and relative air humidity values\n",
    "\n",
    "In this step all values from the data are applied on the newly created function."
   ]
  },
  {
   "cell_type": "code",
   "execution_count": 7,
   "metadata": {},
   "outputs": [
    {
     "data": {
      "text/plain": [
       "([0.5836969696969838, 0.5970303030303299, 0.6188484848484919, 0.7420606060605976, 0.709393939393955, 0.6078181818182031, 0.6033333333333246, 0.660666666666657, 0.6786060606060911, 0.7343636363636179  …  1.5980606060605975, 1.851030303030294, 1.852060606060597, 1.4521818181818276, 1.1507878787878933, 1.5541818181817906, 1.7022424242424137, 1.818666666666676, 1.9053333333333278, 1.7220000000000155], [-3.423545454545497, -3.452636363636522, -3.527181818181859, -4.2050909090908135, -4.0386363636363924, -3.51463636363642, -3.5086363636362634, -3.793545454545402, -3.8939090909091902, -4.150272727272636  …  -8.739272727272656, -9.892545454545356, -9.730090909090848, -7.789909090909099, -6.399272727272752, -8.16690909090893, -8.743909090909021, -9.241090909090893, -9.654727272727172, -8.83245454545456], [7.275666666666815, 7.208696969697151, 7.20415151515148, 8.250848484848376, 8.003787878787968, 7.306454545454649, 7.348939393939297, 7.7359696969696685, 7.900575757575879, 8.142090909090797  …  13.795939393939328, 15.239515151515107, 14.624939393939314, 12.432636363636469, 10.714121212121292, 12.312363636363486, 12.756939393939284, 13.19169696969714, 13.796848484848312, 13.218818181818243], [64.00872727272724, 64.19781818181809, 64.57418181818181, 64.48036363636368, 64.78636363636363, 64.91854545454541, 64.88636363636368, 64.8196363636364, 64.89381818181812, 65.02654545454551  …  65.44345454545457, 64.74927272727275, 65.26036363636368, 65.686, 66.37163636363634, 66.32854545454552, 66.10200000000006, 66.11163636363635, 65.83709090909097, 65.18254545454545])"
      ]
     },
     "metadata": {},
     "output_type": "display_data"
    }
   ],
   "source": [
    "#Temperature\n",
    "a_T, b_T, c_T, d_T = cubic_parameters(data[:,1],data[:,3],data[:,5],data[:,7])\n",
    "\n",
    "#Relative air humidity\n",
    "a_LF, b_LF, c_LF, d_LF = cubic_parameters(data[:,2],data[:,4],data[:,6],data[:,8])"
   ]
  },
  {
   "cell_type": "markdown",
   "metadata": {},
   "source": [
    "## Extreme values\n",
    "\n",
    "In this step the function _cubic parameters_ is applied on the maximum, minimum and mean value of each height for temperature and relative air humidity values over the whole dataset."
   ]
  },
  {
   "cell_type": "code",
   "execution_count": 8,
   "metadata": {},
   "outputs": [
    {
     "name": "stdout",
     "output_type": "stream",
     "text": [
      "Kurvenparameter der 'Temperaturmittelwertkurve':\n",
      "a = 0.20390669405923717\n",
      "b = -1.1251851566512614\n",
      "c = 1.6590766135935682\n",
      "d = 0.8850344119157667\n",
      "\n",
      "Kurvenparameter der 'Luftfeuchtigkeitsmittelwertkurve':\n",
      "a = 1.228680876562258\n",
      "b = -6.532435798664743\n",
      "c = 10.67655153227215\n",
      "d = 65.94659732922432\n"
     ]
    }
   ],
   "source": [
    "#Temperature\n",
    "a_T_max, b_T_max, c_T_max, d_T_max = cubic_parameters(maximum(dataset.Sensor1_T),maximum(dataset.Sensor2_T),maximum(dataset.Sensor3_T),maximum(dataset.Sensor4_T))\n",
    "a_T_min, b_T_min, c_T_min, d_T_min = cubic_parameters(minimum(dataset.Sensor1_T),minimum(dataset.Sensor2_T),minimum(dataset.Sensor3_T),minimum(dataset.Sensor4_T))\n",
    "a_T_mean, b_T_mean, c_T_mean, d_T_mean = cubic_parameters(mean(dataset.Sensor1_T),mean(dataset.Sensor2_T),mean(dataset.Sensor3_T),mean(dataset.Sensor4_T))\n",
    "\n",
    "#Relative air humidity\n",
    "a_LF_max, b_LF_max, c_LF_max, d_LF_max = cubic_parameters(maximum(dataset.Sensor1_LF),maximum(dataset.Sensor2_LF),maximum(dataset.Sensor3_LF),maximum(dataset.Sensor4_LF))\n",
    "a_LF_min, b_LF_min, c_LF_min, d_LF_min = cubic_parameters(minimum(dataset.Sensor1_LF),minimum(dataset.Sensor2_LF),minimum(dataset.Sensor3_LF),minimum(dataset.Sensor4_LF))\n",
    "a_LF_mean, b_LF_mean, c_LF_mean, d_LF_mean = cubic_parameters(mean(dataset.Sensor1_LF),mean(dataset.Sensor2_LF),mean(dataset.Sensor3_LF),mean(dataset.Sensor4_LF))\n",
    "\n",
    "println(\"Kurvenparameter der 'Temperaturmittelwertkurve':\")\n",
    "println(\"a = \",a_T_mean,\"\\n\",\"b = \",b_T_mean,\"\\n\",\"c = \",c_T_mean,\"\\n\",\"d = \",d_T_mean,\"\\n\")\n",
    "\n",
    "println(\"Kurvenparameter der 'Luftfeuchtigkeitsmittelwertkurve':\")\n",
    "println(\"a = \",a_LF_mean,\"\\n\",\"b = \",b_LF_mean,\"\\n\",\"c = \",c_LF_mean,\"\\n\",\"d = \",d_LF_mean)\n"
   ]
  },
  {
   "cell_type": "markdown",
   "metadata": {},
   "source": [
    "## Plot\n",
    "\n",
    "In the last step, the plots are created.\n",
    "\n",
    "First, we create the plot for the temperature. At first the curves are created. In this step a variable x gets created which consists of 354 points reaching from 0.5 to 3. Then an Array where each point is stored inside gets created. In a third step a for-loop loops from 1 to the end of the dataset. Inside the loop a multiplication between the previus calculated parameters a, b, c and d with the x variable is executed. Note that each row of the arry will return one specific curve.\n",
    "\n",
    "In the final step 3 more curves are created. One curve represents the minimum, the second the maximum and the last one the mean temperature over the whole route.  "
   ]
  },
  {
   "cell_type": "code",
   "execution_count": 9,
   "metadata": {},
   "outputs": [
    {
     "data": {
      "text/plain": [
       "354-element Vector{Float64}:\n",
       " 1.4587647663071401\n",
       " 1.4635879187080483\n",
       " 1.4683293160972437\n",
       " 1.4729893930636402\n",
       " 1.4775685841961521\n",
       " 1.482067324083693\n",
       " 1.4864860473151773\n",
       " 1.4908251884795194\n",
       " 1.4950851821656328\n",
       " 1.499266462962432\n",
       " ⋮\n",
       " 1.2198958207020498\n",
       " 1.2223020002234544\n",
       " 1.2247763579085043\n",
       " 1.2273193283461137\n",
       " 1.2299313461251942\n",
       " 1.23261284583466\n",
       " 1.2353642620634295\n",
       " 1.238186029400412\n",
       " 1.241078582434523"
      ]
     },
     "metadata": {},
     "output_type": "display_data"
    }
   ],
   "source": [
    "x = range(0.5,3,354)\n",
    "j = 1\n",
    "k = 1\n",
    "\n",
    "y_T2 = Array{Float64}(undef,354,46)\n",
    "y_T1 = Array{Float64}(undef,354,308)\n",
    "y_T = Array{Float64}(undef,354,354)\n",
    "\n",
    "for i = 1:354\n",
    "    if data[i,9] == 1\n",
    "        y_T1[:,j] = a_T[i] .* x .* x .* x .+ b_T[i] .* x .* x .+ c_T[i] .* x .+ d_T[i]\n",
    "        j = j + 1\n",
    "    end\n",
    "end\n",
    "\n",
    "for i = 1:354\n",
    "    if data[i,9] == 2\n",
    "        y_T2[:,k] = a_T[i] .* x .* x .* x .+ b_T[i] .* x .* x .+ c_T[i] .* x .+ d_T[i]\n",
    "        k = k + 1\n",
    "    end\n",
    "end\n",
    "\n",
    "for i = 1:354\n",
    "    y_T[:,i] = a_T[i] .* x .* x .* x .+ b_T[i] .* x .* x .+ c_T[i] .* x .+ d_T[i]\n",
    "end\n",
    "\n",
    "y_T_max = a_T_max .* x .* x .* x .+ b_T_max .* x .* x .+ c_T_max .* x .+ d_T_max\n",
    "y_T_min = a_T_min .* x .* x .* x .+ b_T_min .* x .* x .+ c_T_min .* x .+ d_T_min\n",
    "y_T_mean = a_T_mean .* x .* x .* x .+ b_T_mean .* x .* x .+ c_T_mean .* x .+ d_T_mean\n"
   ]
  },
  {
   "cell_type": "markdown",
   "metadata": {},
   "source": [
    "In the following step the plot for the temperature is created."
   ]
  },
  {
   "cell_type": "code",
   "execution_count": 10,
   "metadata": {},
   "outputs": [
    {
     "data": {
      "text/plain": [
       "\"c:\\\\Users\\\\ruben\\\\Desktop\\\\Julia\\\\Vert_Temp.png\""
      ]
     },
     "metadata": {},
     "output_type": "display_data"
    }
   ],
   "source": [
    "plot(y_T1, x, color = :grey, linealpha = 0.5, label = false, title = \"Vertikales Temperaturprofil\", ylab = \"Höhe [m]\", xlab = \"Temperatur [°C]\", ylims = (0.5, 3), xlims = (0.75, 2))\n",
    "plot!(y_T2, x, color = :green, linealpha = 0.5, label = false)\n",
    "plot!(y_T_max, x, color = :red, linewidth = 2, label = false)\n",
    "plot!(y_T_min, x, color = :red, linewidth = 2, label = false)\n",
    "plot!(y_T_mean, x, color = :black, linewidth = 2, label = false)\n",
    "plot!([8, 9], color = :grey, label = \"Stadt\")\n",
    "plot!([10, 11], color = :green, label = \"Wald\")\n",
    "plot!([9, 10], color = :red, label = \"Spannweite\")\n",
    "plot!([9, 8], color = :black, label = \"Mittelwert\")\n",
    "plot!(legend = :outertopright)\n",
    "\n",
    "savefig(\"Vert_Temp.png\")"
   ]
  },
  {
   "cell_type": "markdown",
   "metadata": {},
   "source": [
    "In the following steps the steps above are repeated for the relative air humidity"
   ]
  },
  {
   "cell_type": "code",
   "execution_count": 12,
   "metadata": {},
   "outputs": [
    {
     "data": {
      "text/plain": [
       "354-element Vector{Float64}:\n",
       " 69.80534925526449\n",
       " 69.84099002627799\n",
       " 69.87616300309463\n",
       " 69.91087080441751\n",
       " 69.9451160489497\n",
       " 69.97890135539427\n",
       " 70.01222934245432\n",
       " 70.04510262883292\n",
       " 70.07752383323314\n",
       " 70.10949557435808\n",
       "  ⋮\n",
       " 72.10920341238538\n",
       " 72.13884902628965\n",
       " 72.16893029855987\n",
       " 72.19944984789915\n",
       " 72.23041029301055\n",
       " 72.26181425259718\n",
       " 72.29366434536206\n",
       " 72.32596319000834\n",
       " 72.35871340523906"
      ]
     },
     "metadata": {},
     "output_type": "display_data"
    }
   ],
   "source": [
    "x = range(0.5,3,354)\n",
    "\n",
    "j = 1\n",
    "k = 1\n",
    "\n",
    "y_LF2 = Array{Float64}(undef,354,46)\n",
    "y_LF1 = Array{Float64}(undef,354,308)\n",
    "y_LF = Array{Float64}(undef,354,354)\n",
    "\n",
    "for i = 1:354\n",
    "    if data[i,9] == 1\n",
    "        y_LF1[:,j] = a_LF[i] .* x .* x .* x .+ b_LF[i] .* x .* x .+ c_LF[i] .* x .+ d_LF[i]\n",
    "        j = j + 1\n",
    "    end\n",
    "end\n",
    "\n",
    "for i = 1:354\n",
    "    if data[i,9] == 2\n",
    "        y_LF2[:,k] = a_LF[i] .* x .* x .* x .+ b_LF[i] .* x .* x .+ c_LF[i] .* x .+ d_LF[i]\n",
    "        k = k + 1\n",
    "    end\n",
    "end\n",
    "\n",
    "for i = 1:354\n",
    "    y_LF[:,i] = a_LF[i] .* x .* x .* x .+ b_LF[i] .* x .* x .+ c_LF[i] .* x .+ d_LF[i]\n",
    "end\n",
    "\n",
    "y_LF_max = a_LF_max .* x .* x .* x .+ b_LF_max .* x .* x .+ c_LF_max .* x .+ d_LF_max\n",
    "y_LF_min = a_LF_min .* x .* x .* x .+ b_LF_min .* x .* x .+ c_LF_min .* x .+ d_LF_min\n",
    "y_LF_mean = a_LF_mean .* x .* x .* x .+ b_LF_mean .* x .* x .+ c_LF_mean .* x .+ d_LF_mean "
   ]
  },
  {
   "cell_type": "markdown",
   "metadata": {},
   "source": [
    "In the following step the plot for the air humidity is created."
   ]
  },
  {
   "cell_type": "code",
   "execution_count": 13,
   "metadata": {},
   "outputs": [
    {
     "data": {
      "text/plain": [
       "\"c:\\\\Users\\\\ruben\\\\Desktop\\\\Julia\\\\Vert_LFK.png\""
      ]
     },
     "metadata": {},
     "output_type": "display_data"
    }
   ],
   "source": [
    "plot(y_LF1, x, color = :grey, linealpha = 0.5, label = false, title = \"Vertikales relatives Luftfeuchtigkeitsprofil\", ylab = \"Höhe [m]\", xlab = \"Luftfeuchtigkeit [%]\", ylims = (0.5, 3), xlims = (65, 85))\n",
    "plot!(y_LF2, x, color = :green, linealpha = 0.5, label = false)\n",
    "plot!(y_LF_max, x, color = :red, linewidth = 2, label = false)\n",
    "plot!(y_LF_min, x, color = :red, linewidth = 2, label = false)\n",
    "plot!(y_LF_mean, x, color = :black, linewidth = 2, label = false)\n",
    "plot!([8, 9], color = :grey, label = \"Stadt\")\n",
    "plot!([10, 11], color = :green, label = \"Wald\")\n",
    "plot!([9, 10], color = :red, label = \"Spannweite\")\n",
    "plot!([9, 8], color = :black, label = \"Mittelwert\")\n",
    "plot!(legend = :outertopright)\n",
    "\n",
    "savefig(\"Vert_LFK.png\")"
   ]
  }
 ],
 "metadata": {
  "kernelspec": {
   "display_name": "Julia 1.10.5",
   "language": "julia",
   "name": "julia-1.10"
  },
  "language_info": {
   "file_extension": ".jl",
   "mimetype": "application/julia",
   "name": "julia",
   "version": "1.10.5"
  }
 },
 "nbformat": 4,
 "nbformat_minor": 2
}
